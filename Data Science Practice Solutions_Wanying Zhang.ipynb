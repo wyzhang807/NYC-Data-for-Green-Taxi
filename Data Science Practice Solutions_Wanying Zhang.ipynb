{
 "cells": [
  {
   "cell_type": "markdown",
   "id": "06eb1ea5",
   "metadata": {},
   "source": [
    "# New York City Taxi and Limousine Commission data for Green Taxis"
   ]
  },
  {
   "cell_type": "markdown",
   "id": "1ed868e7",
   "metadata": {},
   "source": [
    "## Applicant: Wanying Zhang (Columbia University)"
   ]
  },
  {
   "cell_type": "code",
   "execution_count": 1,
   "id": "3e92f0a0",
   "metadata": {},
   "outputs": [],
   "source": [
    "import pandas as pd       #data processing\n",
    "import numpy as np        #linear algebra\n",
    "import datetime as dt"
   ]
  },
  {
   "cell_type": "code",
   "execution_count": 2,
   "id": "6cf71e90",
   "metadata": {},
   "outputs": [],
   "source": [
    "import seaborn as sns     #data visualisation\n",
    "sns.set()\n",
    "import matplotlib.pyplot as plt\n",
    "%matplotlib inline"
   ]
  },
  {
   "cell_type": "code",
   "execution_count": 3,
   "id": "fc867d7b",
   "metadata": {},
   "outputs": [],
   "source": [
    "import pylab\n",
    "from scipy.stats import norm\n",
    "import scipy.stats as stats"
   ]
  },
  {
   "cell_type": "code",
   "execution_count": 4,
   "id": "bd17ed2c",
   "metadata": {},
   "outputs": [],
   "source": [
    "import warnings; warnings.simplefilter('ignore')"
   ]
  },
  {
   "cell_type": "code",
   "execution_count": 5,
   "id": "85479121",
   "metadata": {},
   "outputs": [],
   "source": [
    "import os\n",
    "import wget\n",
    "import xgboost"
   ]
  },
  {
   "cell_type": "code",
   "execution_count": 6,
   "id": "e7c4b6db",
   "metadata": {},
   "outputs": [],
   "source": [
    "from sklearn import metrics\n",
    "from sklearn.linear_model import Ridge\n",
    "from sklearn.ensemble import GradientBoostingRegressor\n",
    "from sklearn.model_selection import RandomizedSearchCV, train_test_split"
   ]
  },
  {
   "cell_type": "markdown",
   "id": "b97bcc3e",
   "metadata": {},
   "source": [
    "## Let's define some functions first for further use."
   ]
  },
  {
   "cell_type": "code",
   "execution_count": 7,
   "id": "d0560499",
   "metadata": {},
   "outputs": [],
   "source": [
    "def rm(X_train, y_train):\n",
    "    print('Linear regression model training')\n",
    "    \n",
    "    ridge = Ridge()\n",
    "    params = {'alpha': np.logspace(-2, 0, 4)}\n",
    "    estimator = RandomizedSearchCV(ridge, params, n_iter=3, scoring='explained_variance') #setting estimator\n",
    "    estimator.fit(X_train, y_train)\n",
    "    \n",
    "    return estimator"
   ]
  },
  {
   "cell_type": "code",
   "execution_count": 8,
   "id": "cf7fa835",
   "metadata": {},
   "outputs": [],
   "source": [
    "def gbr(X_train, y_train):\n",
    "    print('Gradientboost regressor model training')\n",
    "    \n",
    "    gbr = GradientBoostingRegressor()\n",
    "    params = {\n",
    "        'learning_rate': np.logspace(-2, 0, 4),\n",
    "        'n_estimators': np.arange(20, 100, 20),\n",
    "        'max_depth': np.arange(1, 15, 3),\n",
    "        'max_features': ['sqrt', 'log2']\n",
    "    }\n",
    "    estimator = RandomizedSearchCV(gbr, params, n_iter=3, scoring='explained_variance') #setting estimator\n",
    "    estimator.fit(X_train, y_train)\n",
    "\n",
    "    return estimator"
   ]
  },
  {
   "cell_type": "code",
   "execution_count": 9,
   "id": "513cd7ca",
   "metadata": {},
   "outputs": [],
   "source": [
    "def xgb(X_train, y_train):\n",
    "    print('XGboost regressor model training')\n",
    "    \n",
    "    xgb = xgboost.XGBRegressor()\n",
    "    params = {\n",
    "        'learning_rate': np.logspace(-2, 0, 4),\n",
    "        'n_estimators': np.arange(50, 200, 50),\n",
    "        'max_depth': np.arange(1, 15, 3)\n",
    "    }\n",
    "    estimator = RandomizedSearchCV(xgb, params, n_iter=3, scoring='explained_variance') #setting estimator\n",
    "    estimator.fit(X_train, y_train)\n",
    "    \n",
    "    return estimator"
   ]
  },
  {
   "cell_type": "code",
   "execution_count": 10,
   "id": "e3a02aa9",
   "metadata": {},
   "outputs": [],
   "source": [
    "def fit_model(observations, dfmap):\n",
    "    print('Model begins')\n",
    "    \n",
    "    results = list()\n",
    "\n",
    "    X = dfmap.fit_transform(observations)  #dataset transforming\n",
    "\n",
    "    y = observations['tip_percentage'] \n",
    "\n",
    "    X_train, X_test, y_train, y_test = train_test_split(X, y, test_size=0.3, random_state=42)\n",
    "\n",
    "    # individual models training\n",
    "    model_functions = {'ridge': rm,\n",
    "                       'gbr': gbr,\n",
    "                       'xgb': xgb\n",
    "                       }\n",
    "\n",
    "    for (model_name, model_function) in model_functions.items(): #building model, training and storing results\n",
    "        \n",
    "        local_dict = dict()\n",
    "        local_dict['model_type'] = model_name\n",
    "\n",
    "        estimator = model_function(X_train, y_train)\n",
    "        local_dict['estimator'] = estimator\n",
    "\n",
    "        test_preds = estimator.predict(X_test)\n",
    "        local_dict['test_exp_var'] = metrics.explained_variance_score(y_test, test_preds)\n",
    "        local_dict['test_MSE'] = metrics.mean_squared_error(y_test, test_preds)\n",
    "        local_dict['test_RMSE'] = np.sqrt(metrics.mean_squared_error(y_test, test_preds))\n",
    "\n",
    "        train_preds = estimator.predict(X_train)\n",
    "        local_dict['train_exp_var'] = metrics.explained_variance_score(y_train, train_preds)\n",
    "        local_dict['train_MSE'] = metrics.mean_squared_error(y_train, train_preds)\n",
    "        local_dict['train_RMSE'] = np.sqrt(metrics.mean_squared_error(y_train, train_preds))\n",
    "\n",
    "        results.append(local_dict)\n",
    "\n",
    "    results = pd.DataFrame(results) #Put our results into a dataframe format\n",
    "    print('Model ends')\n",
    "    return results"
   ]
  },
  {
   "cell_type": "markdown",
   "id": "29d9ec2b",
   "metadata": {},
   "source": [
    "# Question 1. [Characterize the Data and Comment its Quality]"
   ]
  },
  {
   "cell_type": "code",
   "execution_count": 11,
   "id": "4be94467",
   "metadata": {},
   "outputs": [],
   "source": [
    "data = pd.read_csv(\"green_tripdata_2016-12.csv\", index_col=False)"
   ]
  },
  {
   "cell_type": "code",
   "execution_count": 12,
   "id": "c5de6f01",
   "metadata": {},
   "outputs": [
    {
     "data": {
      "text/plain": [
       "(1224158, 19)"
      ]
     },
     "execution_count": 12,
     "metadata": {},
     "output_type": "execute_result"
    }
   ],
   "source": [
    "data.shape"
   ]
  },
  {
   "cell_type": "markdown",
   "id": "8f1fb054",
   "metadata": {},
   "source": [
    "### We could see that the shape of the dataset is (1224158, 19), which indicates that there are 1223158 rows and 19 columns in the dataset. "
   ]
  },
  {
   "cell_type": "markdown",
   "id": "1a724614",
   "metadata": {},
   "source": [
    "### Let's take a look at these columns first."
   ]
  },
  {
   "cell_type": "code",
   "execution_count": 13,
   "id": "644f5842",
   "metadata": {},
   "outputs": [
    {
     "data": {
      "text/plain": [
       "Index(['VendorID', 'lpep_pickup_datetime', 'lpep_dropoff_datetime',\n",
       "       'store_and_fwd_flag', 'RatecodeID', 'PULocationID', 'DOLocationID',\n",
       "       'passenger_count', 'trip_distance', 'fare_amount', 'extra', 'mta_tax',\n",
       "       'tip_amount', 'tolls_amount', 'ehail_fee', 'improvement_surcharge',\n",
       "       'total_amount', 'payment_type', 'trip_type'],\n",
       "      dtype='object')"
      ]
     },
     "execution_count": 13,
     "metadata": {},
     "output_type": "execute_result"
    }
   ],
   "source": [
    "data.columns"
   ]
  },
  {
   "cell_type": "markdown",
   "id": "3a10efe2",
   "metadata": {},
   "source": [
    "### We could see what all the columns in the datset are. Then let's see what their datatypes are. "
   ]
  },
  {
   "cell_type": "code",
   "execution_count": 14,
   "id": "02772bda",
   "metadata": {
    "scrolled": false
   },
   "outputs": [
    {
     "data": {
      "text/plain": [
       "VendorID                   int64\n",
       "lpep_pickup_datetime      object\n",
       "lpep_dropoff_datetime     object\n",
       "store_and_fwd_flag        object\n",
       "RatecodeID                 int64\n",
       "PULocationID               int64\n",
       "DOLocationID               int64\n",
       "passenger_count            int64\n",
       "trip_distance            float64\n",
       "fare_amount              float64\n",
       "extra                    float64\n",
       "mta_tax                  float64\n",
       "tip_amount               float64\n",
       "tolls_amount             float64\n",
       "ehail_fee                float64\n",
       "improvement_surcharge    float64\n",
       "total_amount             float64\n",
       "payment_type               int64\n",
       "trip_type                  int64\n",
       "dtype: object"
      ]
     },
     "execution_count": 14,
     "metadata": {},
     "output_type": "execute_result"
    }
   ],
   "source": [
    "data.dtypes"
   ]
  },
  {
   "cell_type": "markdown",
   "id": "716d0b25",
   "metadata": {},
   "source": [
    "### We have a basic knowledge about the datatypes of the columns form above, now let's dive deeper into what the data in these columns are like in detail (first 5 rows)."
   ]
  },
  {
   "cell_type": "code",
   "execution_count": 15,
   "id": "c5189487",
   "metadata": {
    "scrolled": true
   },
   "outputs": [
    {
     "data": {
      "text/html": [
       "<div>\n",
       "<style scoped>\n",
       "    .dataframe tbody tr th:only-of-type {\n",
       "        vertical-align: middle;\n",
       "    }\n",
       "\n",
       "    .dataframe tbody tr th {\n",
       "        vertical-align: top;\n",
       "    }\n",
       "\n",
       "    .dataframe thead th {\n",
       "        text-align: right;\n",
       "    }\n",
       "</style>\n",
       "<table border=\"1\" class=\"dataframe\">\n",
       "  <thead>\n",
       "    <tr style=\"text-align: right;\">\n",
       "      <th></th>\n",
       "      <th>VendorID</th>\n",
       "      <th>lpep_pickup_datetime</th>\n",
       "      <th>lpep_dropoff_datetime</th>\n",
       "      <th>store_and_fwd_flag</th>\n",
       "      <th>RatecodeID</th>\n",
       "      <th>PULocationID</th>\n",
       "      <th>DOLocationID</th>\n",
       "      <th>passenger_count</th>\n",
       "      <th>trip_distance</th>\n",
       "      <th>fare_amount</th>\n",
       "      <th>extra</th>\n",
       "      <th>mta_tax</th>\n",
       "      <th>tip_amount</th>\n",
       "      <th>tolls_amount</th>\n",
       "      <th>ehail_fee</th>\n",
       "      <th>improvement_surcharge</th>\n",
       "      <th>total_amount</th>\n",
       "      <th>payment_type</th>\n",
       "      <th>trip_type</th>\n",
       "    </tr>\n",
       "  </thead>\n",
       "  <tbody>\n",
       "    <tr>\n",
       "      <th>0</th>\n",
       "      <td>2</td>\n",
       "      <td>2016-12-01 00:00:54</td>\n",
       "      <td>2016-12-01 00:06:54</td>\n",
       "      <td>N</td>\n",
       "      <td>1</td>\n",
       "      <td>92</td>\n",
       "      <td>192</td>\n",
       "      <td>1</td>\n",
       "      <td>1.29</td>\n",
       "      <td>6.5</td>\n",
       "      <td>0.5</td>\n",
       "      <td>0.5</td>\n",
       "      <td>0.00</td>\n",
       "      <td>0.0</td>\n",
       "      <td>NaN</td>\n",
       "      <td>0.3</td>\n",
       "      <td>7.80</td>\n",
       "      <td>2</td>\n",
       "      <td>1</td>\n",
       "    </tr>\n",
       "    <tr>\n",
       "      <th>1</th>\n",
       "      <td>2</td>\n",
       "      <td>2016-12-01 00:52:41</td>\n",
       "      <td>2016-12-01 00:54:51</td>\n",
       "      <td>N</td>\n",
       "      <td>1</td>\n",
       "      <td>92</td>\n",
       "      <td>171</td>\n",
       "      <td>1</td>\n",
       "      <td>0.64</td>\n",
       "      <td>4.0</td>\n",
       "      <td>0.5</td>\n",
       "      <td>0.5</td>\n",
       "      <td>1.06</td>\n",
       "      <td>0.0</td>\n",
       "      <td>NaN</td>\n",
       "      <td>0.3</td>\n",
       "      <td>6.36</td>\n",
       "      <td>1</td>\n",
       "      <td>1</td>\n",
       "    </tr>\n",
       "    <tr>\n",
       "      <th>2</th>\n",
       "      <td>2</td>\n",
       "      <td>2016-12-01 00:10:39</td>\n",
       "      <td>2016-12-01 00:14:47</td>\n",
       "      <td>N</td>\n",
       "      <td>1</td>\n",
       "      <td>75</td>\n",
       "      <td>238</td>\n",
       "      <td>2</td>\n",
       "      <td>0.89</td>\n",
       "      <td>5.5</td>\n",
       "      <td>0.5</td>\n",
       "      <td>0.5</td>\n",
       "      <td>1.70</td>\n",
       "      <td>0.0</td>\n",
       "      <td>NaN</td>\n",
       "      <td>0.3</td>\n",
       "      <td>8.50</td>\n",
       "      <td>1</td>\n",
       "      <td>1</td>\n",
       "    </tr>\n",
       "    <tr>\n",
       "      <th>3</th>\n",
       "      <td>2</td>\n",
       "      <td>2016-12-01 00:12:16</td>\n",
       "      <td>2016-12-01 00:15:31</td>\n",
       "      <td>N</td>\n",
       "      <td>1</td>\n",
       "      <td>166</td>\n",
       "      <td>151</td>\n",
       "      <td>1</td>\n",
       "      <td>0.66</td>\n",
       "      <td>4.5</td>\n",
       "      <td>0.5</td>\n",
       "      <td>0.5</td>\n",
       "      <td>1.74</td>\n",
       "      <td>0.0</td>\n",
       "      <td>NaN</td>\n",
       "      <td>0.3</td>\n",
       "      <td>7.54</td>\n",
       "      <td>1</td>\n",
       "      <td>1</td>\n",
       "    </tr>\n",
       "    <tr>\n",
       "      <th>4</th>\n",
       "      <td>2</td>\n",
       "      <td>2016-12-01 00:29:22</td>\n",
       "      <td>2016-12-01 00:39:51</td>\n",
       "      <td>N</td>\n",
       "      <td>1</td>\n",
       "      <td>166</td>\n",
       "      <td>42</td>\n",
       "      <td>1</td>\n",
       "      <td>2.15</td>\n",
       "      <td>9.5</td>\n",
       "      <td>0.5</td>\n",
       "      <td>0.5</td>\n",
       "      <td>2.16</td>\n",
       "      <td>0.0</td>\n",
       "      <td>NaN</td>\n",
       "      <td>0.3</td>\n",
       "      <td>12.96</td>\n",
       "      <td>1</td>\n",
       "      <td>1</td>\n",
       "    </tr>\n",
       "  </tbody>\n",
       "</table>\n",
       "</div>"
      ],
      "text/plain": [
       "   VendorID lpep_pickup_datetime lpep_dropoff_datetime store_and_fwd_flag  \\\n",
       "0         2  2016-12-01 00:00:54   2016-12-01 00:06:54                  N   \n",
       "1         2  2016-12-01 00:52:41   2016-12-01 00:54:51                  N   \n",
       "2         2  2016-12-01 00:10:39   2016-12-01 00:14:47                  N   \n",
       "3         2  2016-12-01 00:12:16   2016-12-01 00:15:31                  N   \n",
       "4         2  2016-12-01 00:29:22   2016-12-01 00:39:51                  N   \n",
       "\n",
       "   RatecodeID  PULocationID  DOLocationID  passenger_count  trip_distance  \\\n",
       "0           1            92           192                1           1.29   \n",
       "1           1            92           171                1           0.64   \n",
       "2           1            75           238                2           0.89   \n",
       "3           1           166           151                1           0.66   \n",
       "4           1           166            42                1           2.15   \n",
       "\n",
       "   fare_amount  extra  mta_tax  tip_amount  tolls_amount  ehail_fee  \\\n",
       "0          6.5    0.5      0.5        0.00           0.0        NaN   \n",
       "1          4.0    0.5      0.5        1.06           0.0        NaN   \n",
       "2          5.5    0.5      0.5        1.70           0.0        NaN   \n",
       "3          4.5    0.5      0.5        1.74           0.0        NaN   \n",
       "4          9.5    0.5      0.5        2.16           0.0        NaN   \n",
       "\n",
       "   improvement_surcharge  total_amount  payment_type  trip_type  \n",
       "0                    0.3          7.80             2          1  \n",
       "1                    0.3          6.36             1          1  \n",
       "2                    0.3          8.50             1          1  \n",
       "3                    0.3          7.54             1          1  \n",
       "4                    0.3         12.96             1          1  "
      ]
     },
     "execution_count": 15,
     "metadata": {},
     "output_type": "execute_result"
    }
   ],
   "source": [
    "data.head()"
   ]
  },
  {
   "cell_type": "markdown",
   "id": "79f76729",
   "metadata": {},
   "source": [
    "## Variables"
   ]
  },
  {
   "cell_type": "markdown",
   "id": "9d18cf97",
   "metadata": {},
   "source": [
    "#### According to TLC official website, we have the definitions as below:\n",
    "#### VendorID: A code indicating the LPEP provider that provided the record. (1= Creative Mobile Technologies, LLC; 2= VeriFone Inc.)\n",
    "#### lpep_pickup_datetime: The date and time when the meter was engaged\n",
    "#### lpep_pickup_datetime: The date and time when the meter was disengaged\n",
    "#### store_and_fwd_flag: This flag indicates whether the trip record was held in vehicle memory before sending to the vendor, aka “store and forward,” because the vehicle did not have a connection to the server. (Y= store and forward trip; N= not a store and forward trip)\n",
    "#### RateCodeID: The final rate code in effect at the end of the trip. (1= Standard rate; 2=JFK; 3=Newark; 4=Nassau or Westchester 5=Negotiated fare 6=Group ride)\n",
    "#### PULocationID: TLC Taxi Zone in which the taximeter was engaged\n",
    "#### DOLocationId: TLC Taxi Zone in which the taximeter was disengaged\n",
    "#### passenger_count: A number indicating how many passengers are in the vehicle. This is a driver-entered value.\n",
    "#### fare_amount: The time-and-distance fare calculated by the meter.\n",
    "#### extra: Miscellaneous extras and surcharges. Currently, this only includes the 0.50 and 1 dollar rush hour and overnight charges.\n",
    "#### mta_tax: 0.50 dollar of MTA tax that is automatically triggered based on the metered rate in use.\n",
    "#### tip_amount: This field is automatically populated for credit card tips. Cash tips are not included.\n",
    "#### tolls_amount: Total amount of all tolls paid in trip.\n",
    "#### improvement_surcharge: 0.30 dollar improvement surcharge assessed on hailed trips at the flag drop. The improvement surcharge began being levied in 2015.\n",
    "#### total_amount: The total amount charged to passengers. Does not include cash tips.\n",
    "#### payment_type: a numebr indicating the payment type of the trip (1 = ; 2= )\n",
    "#### trip_type: A code indicating whether the trip was a street-hail or a dispatch that is automatically assigned based on the metered rate in use but can be altered by the driver. (1= Street-hail; 2= Dispatch)\n",
    "#### trip_distance: The elapsed trip distance in miles reported by the taximeter."
   ]
  },
  {
   "cell_type": "markdown",
   "id": "8b5f5a8c",
   "metadata": {},
   "source": [
    "### These features can be chatacterized into the follwiing categories:\n",
    "## Administrative Data: \n",
    "### VendorID, store_and_fwd_flag, RateCodeID\n",
    "## Trip Data: \n",
    "#### lpep_pickup_datetime, lpep_dropoff_datetime, PULocationID, DOLocationID, passenger_count, trip_distance, trip_type\n",
    "## Payment Data:  \n",
    "#### payment_type, fare_amount, extra, MTA-tax, tip_amount, toll_amount, ehail_fee, improvement_surcharge, total_amount"
   ]
  },
  {
   "cell_type": "markdown",
   "id": "407008ea",
   "metadata": {},
   "source": [
    "# Question 2. [Data Exploration and Visualization]"
   ]
  },
  {
   "cell_type": "markdown",
   "id": "8b96dbdb",
   "metadata": {},
   "source": [
    "### Let's check if there are any missing values in the dataset."
   ]
  },
  {
   "cell_type": "code",
   "execution_count": 16,
   "id": "595acffd",
   "metadata": {
    "scrolled": true
   },
   "outputs": [
    {
     "data": {
      "text/plain": [
       "VendorID                       0\n",
       "lpep_pickup_datetime           0\n",
       "lpep_dropoff_datetime          0\n",
       "store_and_fwd_flag             0\n",
       "RatecodeID                     0\n",
       "PULocationID                   0\n",
       "DOLocationID                   0\n",
       "passenger_count                0\n",
       "trip_distance                  0\n",
       "fare_amount                    0\n",
       "extra                          0\n",
       "mta_tax                        0\n",
       "tip_amount                     0\n",
       "tolls_amount                   0\n",
       "ehail_fee                1224158\n",
       "improvement_surcharge          0\n",
       "total_amount                   0\n",
       "payment_type                   0\n",
       "trip_type                      0\n",
       "dtype: int64"
      ]
     },
     "execution_count": 16,
     "metadata": {},
     "output_type": "execute_result"
    }
   ],
   "source": [
    "data.isnull().sum()"
   ]
  },
  {
   "cell_type": "markdown",
   "id": "aa0d9f42",
   "metadata": {},
   "source": [
    "### We noticed that all ehail_fee are missing which makes the column invalid (as we could tell from the official website, the official dictionary doesn't take ehail fee into account). Therefore we should delete the column."
   ]
  },
  {
   "cell_type": "code",
   "execution_count": 17,
   "id": "05c06042",
   "metadata": {},
   "outputs": [],
   "source": [
    "df1 = data.dropna(axis=1)"
   ]
  },
  {
   "cell_type": "code",
   "execution_count": 18,
   "id": "3f7617d3",
   "metadata": {
    "scrolled": true
   },
   "outputs": [
    {
     "data": {
      "text/plain": [
       "VendorID                 0\n",
       "lpep_pickup_datetime     0\n",
       "lpep_dropoff_datetime    0\n",
       "store_and_fwd_flag       0\n",
       "RatecodeID               0\n",
       "PULocationID             0\n",
       "DOLocationID             0\n",
       "passenger_count          0\n",
       "trip_distance            0\n",
       "fare_amount              0\n",
       "extra                    0\n",
       "mta_tax                  0\n",
       "tip_amount               0\n",
       "tolls_amount             0\n",
       "improvement_surcharge    0\n",
       "total_amount             0\n",
       "payment_type             0\n",
       "trip_type                0\n",
       "dtype: int64"
      ]
     },
     "execution_count": 18,
     "metadata": {},
     "output_type": "execute_result"
    }
   ],
   "source": [
    "df1.isnull().sum()"
   ]
  },
  {
   "cell_type": "markdown",
   "id": "f1f8ea52",
   "metadata": {},
   "source": [
    "### Now the null invalid column has been deleted and there in no missing value in the dataset."
   ]
  },
  {
   "cell_type": "code",
   "execution_count": 19,
   "id": "053ec7c7",
   "metadata": {},
   "outputs": [
    {
     "data": {
      "text/plain": [
       "VendorID                      2\n",
       "lpep_pickup_datetime     930912\n",
       "lpep_dropoff_datetime    929402\n",
       "store_and_fwd_flag            2\n",
       "RatecodeID                    6\n",
       "PULocationID                241\n",
       "DOLocationID                260\n",
       "passenger_count              10\n",
       "trip_distance              3052\n",
       "fare_amount                 869\n",
       "extra                         9\n",
       "mta_tax                       3\n",
       "tip_amount                 1821\n",
       "tolls_amount                126\n",
       "improvement_surcharge         3\n",
       "total_amount               5815\n",
       "payment_type                  5\n",
       "trip_type                     2\n",
       "dtype: int64"
      ]
     },
     "execution_count": 19,
     "metadata": {},
     "output_type": "execute_result"
    }
   ],
   "source": [
    "df1.nunique()"
   ]
  },
  {
   "cell_type": "markdown",
   "id": "ea873482",
   "metadata": {},
   "source": [
    "### There are two types of VendorID, store_and_fwd_flags, trip_type, payment_type and 6 types of RatecodeID which makes sense according to their definitions from the official dictionary. There are 10 unique passenger counts. "
   ]
  },
  {
   "cell_type": "markdown",
   "id": "22e01b8b",
   "metadata": {},
   "source": [
    "### We could also check the statistical summary of the dataset, which only includes numerical features of the data."
   ]
  },
  {
   "cell_type": "code",
   "execution_count": 20,
   "id": "7f4ee451",
   "metadata": {},
   "outputs": [
    {
     "data": {
      "text/html": [
       "<div>\n",
       "<style scoped>\n",
       "    .dataframe tbody tr th:only-of-type {\n",
       "        vertical-align: middle;\n",
       "    }\n",
       "\n",
       "    .dataframe tbody tr th {\n",
       "        vertical-align: top;\n",
       "    }\n",
       "\n",
       "    .dataframe thead th {\n",
       "        text-align: right;\n",
       "    }\n",
       "</style>\n",
       "<table border=\"1\" class=\"dataframe\">\n",
       "  <thead>\n",
       "    <tr style=\"text-align: right;\">\n",
       "      <th></th>\n",
       "      <th>VendorID</th>\n",
       "      <th>RatecodeID</th>\n",
       "      <th>PULocationID</th>\n",
       "      <th>DOLocationID</th>\n",
       "      <th>passenger_count</th>\n",
       "      <th>trip_distance</th>\n",
       "      <th>fare_amount</th>\n",
       "      <th>extra</th>\n",
       "      <th>mta_tax</th>\n",
       "      <th>tip_amount</th>\n",
       "      <th>tolls_amount</th>\n",
       "      <th>improvement_surcharge</th>\n",
       "      <th>total_amount</th>\n",
       "      <th>payment_type</th>\n",
       "      <th>trip_type</th>\n",
       "    </tr>\n",
       "  </thead>\n",
       "  <tbody>\n",
       "    <tr>\n",
       "      <th>count</th>\n",
       "      <td>1.224158e+06</td>\n",
       "      <td>1.224158e+06</td>\n",
       "      <td>1.224158e+06</td>\n",
       "      <td>1.224158e+06</td>\n",
       "      <td>1.224158e+06</td>\n",
       "      <td>1.224158e+06</td>\n",
       "      <td>1.224158e+06</td>\n",
       "      <td>1.224158e+06</td>\n",
       "      <td>1.224158e+06</td>\n",
       "      <td>1.224158e+06</td>\n",
       "      <td>1.224158e+06</td>\n",
       "      <td>1.224158e+06</td>\n",
       "      <td>1.224158e+06</td>\n",
       "      <td>1.224158e+06</td>\n",
       "      <td>1.224158e+06</td>\n",
       "    </tr>\n",
       "    <tr>\n",
       "      <th>mean</th>\n",
       "      <td>1.799278e+00</td>\n",
       "      <td>1.085079e+00</td>\n",
       "      <td>1.131729e+02</td>\n",
       "      <td>1.290862e+02</td>\n",
       "      <td>1.362447e+00</td>\n",
       "      <td>2.618179e+00</td>\n",
       "      <td>1.159368e+01</td>\n",
       "      <td>3.629562e-01</td>\n",
       "      <td>4.872578e-01</td>\n",
       "      <td>1.128787e+00</td>\n",
       "      <td>9.456725e-02</td>\n",
       "      <td>2.925184e-01</td>\n",
       "      <td>1.399902e+01</td>\n",
       "      <td>1.534862e+00</td>\n",
       "      <td>1.019722e+00</td>\n",
       "    </tr>\n",
       "    <tr>\n",
       "      <th>std</th>\n",
       "      <td>4.005404e-01</td>\n",
       "      <td>5.660195e-01</td>\n",
       "      <td>7.628387e+01</td>\n",
       "      <td>7.723367e+01</td>\n",
       "      <td>1.036924e+00</td>\n",
       "      <td>2.806160e+00</td>\n",
       "      <td>9.793499e+00</td>\n",
       "      <td>3.901575e-01</td>\n",
       "      <td>8.517500e-02</td>\n",
       "      <td>2.216306e+00</td>\n",
       "      <td>8.808537e-01</td>\n",
       "      <td>5.072935e-02</td>\n",
       "      <td>1.112872e+01</td>\n",
       "      <td>5.240995e-01</td>\n",
       "      <td>1.390438e-01</td>\n",
       "    </tr>\n",
       "    <tr>\n",
       "      <th>min</th>\n",
       "      <td>1.000000e+00</td>\n",
       "      <td>1.000000e+00</td>\n",
       "      <td>1.000000e+00</td>\n",
       "      <td>1.000000e+00</td>\n",
       "      <td>0.000000e+00</td>\n",
       "      <td>0.000000e+00</td>\n",
       "      <td>-4.990000e+02</td>\n",
       "      <td>-4.500000e+00</td>\n",
       "      <td>-5.000000e-01</td>\n",
       "      <td>-1.056000e+01</td>\n",
       "      <td>-8.540000e+00</td>\n",
       "      <td>-3.000000e-01</td>\n",
       "      <td>-4.990000e+02</td>\n",
       "      <td>1.000000e+00</td>\n",
       "      <td>1.000000e+00</td>\n",
       "    </tr>\n",
       "    <tr>\n",
       "      <th>25%</th>\n",
       "      <td>2.000000e+00</td>\n",
       "      <td>1.000000e+00</td>\n",
       "      <td>4.900000e+01</td>\n",
       "      <td>6.100000e+01</td>\n",
       "      <td>1.000000e+00</td>\n",
       "      <td>9.800000e-01</td>\n",
       "      <td>6.000000e+00</td>\n",
       "      <td>0.000000e+00</td>\n",
       "      <td>5.000000e-01</td>\n",
       "      <td>0.000000e+00</td>\n",
       "      <td>0.000000e+00</td>\n",
       "      <td>3.000000e-01</td>\n",
       "      <td>7.800000e+00</td>\n",
       "      <td>1.000000e+00</td>\n",
       "      <td>1.000000e+00</td>\n",
       "    </tr>\n",
       "    <tr>\n",
       "      <th>50%</th>\n",
       "      <td>2.000000e+00</td>\n",
       "      <td>1.000000e+00</td>\n",
       "      <td>8.300000e+01</td>\n",
       "      <td>1.290000e+02</td>\n",
       "      <td>1.000000e+00</td>\n",
       "      <td>1.700000e+00</td>\n",
       "      <td>9.000000e+00</td>\n",
       "      <td>5.000000e-01</td>\n",
       "      <td>5.000000e-01</td>\n",
       "      <td>0.000000e+00</td>\n",
       "      <td>0.000000e+00</td>\n",
       "      <td>3.000000e-01</td>\n",
       "      <td>1.080000e+01</td>\n",
       "      <td>2.000000e+00</td>\n",
       "      <td>1.000000e+00</td>\n",
       "    </tr>\n",
       "    <tr>\n",
       "      <th>75%</th>\n",
       "      <td>2.000000e+00</td>\n",
       "      <td>1.000000e+00</td>\n",
       "      <td>1.730000e+02</td>\n",
       "      <td>1.930000e+02</td>\n",
       "      <td>1.000000e+00</td>\n",
       "      <td>3.200000e+00</td>\n",
       "      <td>1.400000e+01</td>\n",
       "      <td>5.000000e-01</td>\n",
       "      <td>5.000000e-01</td>\n",
       "      <td>1.860000e+00</td>\n",
       "      <td>0.000000e+00</td>\n",
       "      <td>3.000000e-01</td>\n",
       "      <td>1.656000e+01</td>\n",
       "      <td>2.000000e+00</td>\n",
       "      <td>1.000000e+00</td>\n",
       "    </tr>\n",
       "    <tr>\n",
       "      <th>max</th>\n",
       "      <td>2.000000e+00</td>\n",
       "      <td>6.000000e+00</td>\n",
       "      <td>2.650000e+02</td>\n",
       "      <td>2.650000e+02</td>\n",
       "      <td>9.000000e+00</td>\n",
       "      <td>1.475000e+02</td>\n",
       "      <td>1.007000e+03</td>\n",
       "      <td>4.500000e+00</td>\n",
       "      <td>5.000000e-01</td>\n",
       "      <td>2.507000e+02</td>\n",
       "      <td>2.979800e+02</td>\n",
       "      <td>3.000000e-01</td>\n",
       "      <td>1.008300e+03</td>\n",
       "      <td>5.000000e+00</td>\n",
       "      <td>2.000000e+00</td>\n",
       "    </tr>\n",
       "  </tbody>\n",
       "</table>\n",
       "</div>"
      ],
      "text/plain": [
       "           VendorID    RatecodeID  PULocationID  DOLocationID  \\\n",
       "count  1.224158e+06  1.224158e+06  1.224158e+06  1.224158e+06   \n",
       "mean   1.799278e+00  1.085079e+00  1.131729e+02  1.290862e+02   \n",
       "std    4.005404e-01  5.660195e-01  7.628387e+01  7.723367e+01   \n",
       "min    1.000000e+00  1.000000e+00  1.000000e+00  1.000000e+00   \n",
       "25%    2.000000e+00  1.000000e+00  4.900000e+01  6.100000e+01   \n",
       "50%    2.000000e+00  1.000000e+00  8.300000e+01  1.290000e+02   \n",
       "75%    2.000000e+00  1.000000e+00  1.730000e+02  1.930000e+02   \n",
       "max    2.000000e+00  6.000000e+00  2.650000e+02  2.650000e+02   \n",
       "\n",
       "       passenger_count  trip_distance   fare_amount         extra  \\\n",
       "count     1.224158e+06   1.224158e+06  1.224158e+06  1.224158e+06   \n",
       "mean      1.362447e+00   2.618179e+00  1.159368e+01  3.629562e-01   \n",
       "std       1.036924e+00   2.806160e+00  9.793499e+00  3.901575e-01   \n",
       "min       0.000000e+00   0.000000e+00 -4.990000e+02 -4.500000e+00   \n",
       "25%       1.000000e+00   9.800000e-01  6.000000e+00  0.000000e+00   \n",
       "50%       1.000000e+00   1.700000e+00  9.000000e+00  5.000000e-01   \n",
       "75%       1.000000e+00   3.200000e+00  1.400000e+01  5.000000e-01   \n",
       "max       9.000000e+00   1.475000e+02  1.007000e+03  4.500000e+00   \n",
       "\n",
       "            mta_tax    tip_amount  tolls_amount  improvement_surcharge  \\\n",
       "count  1.224158e+06  1.224158e+06  1.224158e+06           1.224158e+06   \n",
       "mean   4.872578e-01  1.128787e+00  9.456725e-02           2.925184e-01   \n",
       "std    8.517500e-02  2.216306e+00  8.808537e-01           5.072935e-02   \n",
       "min   -5.000000e-01 -1.056000e+01 -8.540000e+00          -3.000000e-01   \n",
       "25%    5.000000e-01  0.000000e+00  0.000000e+00           3.000000e-01   \n",
       "50%    5.000000e-01  0.000000e+00  0.000000e+00           3.000000e-01   \n",
       "75%    5.000000e-01  1.860000e+00  0.000000e+00           3.000000e-01   \n",
       "max    5.000000e-01  2.507000e+02  2.979800e+02           3.000000e-01   \n",
       "\n",
       "       total_amount  payment_type     trip_type  \n",
       "count  1.224158e+06  1.224158e+06  1.224158e+06  \n",
       "mean   1.399902e+01  1.534862e+00  1.019722e+00  \n",
       "std    1.112872e+01  5.240995e-01  1.390438e-01  \n",
       "min   -4.990000e+02  1.000000e+00  1.000000e+00  \n",
       "25%    7.800000e+00  1.000000e+00  1.000000e+00  \n",
       "50%    1.080000e+01  2.000000e+00  1.000000e+00  \n",
       "75%    1.656000e+01  2.000000e+00  1.000000e+00  \n",
       "max    1.008300e+03  5.000000e+00  2.000000e+00  "
      ]
     },
     "execution_count": 20,
     "metadata": {},
     "output_type": "execute_result"
    }
   ],
   "source": [
    "df1.describe()"
   ]
  },
  {
   "cell_type": "markdown",
   "id": "3387481a",
   "metadata": {},
   "source": [
    "### Both the minimum values of passenger count and trip distance are 0, which means they might be errors made by drivers who entered 0 (possibly by accident or deliberately to finish a target number of rides)."
   ]
  },
  {
   "cell_type": "markdown",
   "id": "21534a7b",
   "metadata": {},
   "source": [
    "### We are also curious about the pick-up and drop-off boroughs, we could thus update the dataset by combing the info data from TLC website taxizone lookup file. "
   ]
  },
  {
   "cell_type": "code",
   "execution_count": 21,
   "id": "a6ee2726",
   "metadata": {},
   "outputs": [],
   "source": [
    "tzl = pd.read_csv('taxi+_zone_lookup.csv')\n",
    "\n",
    "df = df1.merge(tzl[['Borough', 'service_zone', 'LocationID']], how='left', left_on='PULocationID',\n",
    "              right_on='LocationID')\n",
    "df.rename({'Borough': 'pickup_boro', 'service_zone': 'pickup_servicezone'}, axis='columns', inplace=True)\n",
    "df.drop(columns=['LocationID'], inplace=True)\n",
    "\n",
    "df = df.merge(tzl[['Borough', 'service_zone', 'LocationID']], how='left', left_on='DOLocationID',\n",
    "              right_on='LocationID')\n",
    "df.rename({'Borough': 'dropoff_boro', 'service_zone': 'dropoff_servicezone'}, axis='columns', inplace=True)\n",
    "df.drop(columns=['LocationID'], inplace=True)"
   ]
  },
  {
   "cell_type": "code",
   "execution_count": 22,
   "id": "1690dbbd",
   "metadata": {},
   "outputs": [
    {
     "data": {
      "text/html": [
       "<div>\n",
       "<style scoped>\n",
       "    .dataframe tbody tr th:only-of-type {\n",
       "        vertical-align: middle;\n",
       "    }\n",
       "\n",
       "    .dataframe tbody tr th {\n",
       "        vertical-align: top;\n",
       "    }\n",
       "\n",
       "    .dataframe thead th {\n",
       "        text-align: right;\n",
       "    }\n",
       "</style>\n",
       "<table border=\"1\" class=\"dataframe\">\n",
       "  <thead>\n",
       "    <tr style=\"text-align: right;\">\n",
       "      <th></th>\n",
       "      <th>VendorID</th>\n",
       "      <th>lpep_pickup_datetime</th>\n",
       "      <th>lpep_dropoff_datetime</th>\n",
       "      <th>store_and_fwd_flag</th>\n",
       "      <th>RatecodeID</th>\n",
       "      <th>PULocationID</th>\n",
       "      <th>DOLocationID</th>\n",
       "      <th>passenger_count</th>\n",
       "      <th>trip_distance</th>\n",
       "      <th>fare_amount</th>\n",
       "      <th>...</th>\n",
       "      <th>tip_amount</th>\n",
       "      <th>tolls_amount</th>\n",
       "      <th>improvement_surcharge</th>\n",
       "      <th>total_amount</th>\n",
       "      <th>payment_type</th>\n",
       "      <th>trip_type</th>\n",
       "      <th>pickup_boro</th>\n",
       "      <th>pickup_servicezone</th>\n",
       "      <th>dropoff_boro</th>\n",
       "      <th>dropoff_servicezone</th>\n",
       "    </tr>\n",
       "  </thead>\n",
       "  <tbody>\n",
       "    <tr>\n",
       "      <th>0</th>\n",
       "      <td>2</td>\n",
       "      <td>2016-12-01 00:00:54</td>\n",
       "      <td>2016-12-01 00:06:54</td>\n",
       "      <td>N</td>\n",
       "      <td>1</td>\n",
       "      <td>92</td>\n",
       "      <td>192</td>\n",
       "      <td>1</td>\n",
       "      <td>1.29</td>\n",
       "      <td>6.5</td>\n",
       "      <td>...</td>\n",
       "      <td>0.00</td>\n",
       "      <td>0.0</td>\n",
       "      <td>0.3</td>\n",
       "      <td>7.80</td>\n",
       "      <td>2</td>\n",
       "      <td>1</td>\n",
       "      <td>Queens</td>\n",
       "      <td>Boro Zone</td>\n",
       "      <td>Queens</td>\n",
       "      <td>Boro Zone</td>\n",
       "    </tr>\n",
       "    <tr>\n",
       "      <th>1</th>\n",
       "      <td>2</td>\n",
       "      <td>2016-12-01 00:52:41</td>\n",
       "      <td>2016-12-01 00:54:51</td>\n",
       "      <td>N</td>\n",
       "      <td>1</td>\n",
       "      <td>92</td>\n",
       "      <td>171</td>\n",
       "      <td>1</td>\n",
       "      <td>0.64</td>\n",
       "      <td>4.0</td>\n",
       "      <td>...</td>\n",
       "      <td>1.06</td>\n",
       "      <td>0.0</td>\n",
       "      <td>0.3</td>\n",
       "      <td>6.36</td>\n",
       "      <td>1</td>\n",
       "      <td>1</td>\n",
       "      <td>Queens</td>\n",
       "      <td>Boro Zone</td>\n",
       "      <td>Queens</td>\n",
       "      <td>Boro Zone</td>\n",
       "    </tr>\n",
       "    <tr>\n",
       "      <th>2</th>\n",
       "      <td>2</td>\n",
       "      <td>2016-12-01 00:10:39</td>\n",
       "      <td>2016-12-01 00:14:47</td>\n",
       "      <td>N</td>\n",
       "      <td>1</td>\n",
       "      <td>75</td>\n",
       "      <td>238</td>\n",
       "      <td>2</td>\n",
       "      <td>0.89</td>\n",
       "      <td>5.5</td>\n",
       "      <td>...</td>\n",
       "      <td>1.70</td>\n",
       "      <td>0.0</td>\n",
       "      <td>0.3</td>\n",
       "      <td>8.50</td>\n",
       "      <td>1</td>\n",
       "      <td>1</td>\n",
       "      <td>Manhattan</td>\n",
       "      <td>Boro Zone</td>\n",
       "      <td>Manhattan</td>\n",
       "      <td>Yellow Zone</td>\n",
       "    </tr>\n",
       "    <tr>\n",
       "      <th>3</th>\n",
       "      <td>2</td>\n",
       "      <td>2016-12-01 00:12:16</td>\n",
       "      <td>2016-12-01 00:15:31</td>\n",
       "      <td>N</td>\n",
       "      <td>1</td>\n",
       "      <td>166</td>\n",
       "      <td>151</td>\n",
       "      <td>1</td>\n",
       "      <td>0.66</td>\n",
       "      <td>4.5</td>\n",
       "      <td>...</td>\n",
       "      <td>1.74</td>\n",
       "      <td>0.0</td>\n",
       "      <td>0.3</td>\n",
       "      <td>7.54</td>\n",
       "      <td>1</td>\n",
       "      <td>1</td>\n",
       "      <td>Manhattan</td>\n",
       "      <td>Boro Zone</td>\n",
       "      <td>Manhattan</td>\n",
       "      <td>Yellow Zone</td>\n",
       "    </tr>\n",
       "    <tr>\n",
       "      <th>4</th>\n",
       "      <td>2</td>\n",
       "      <td>2016-12-01 00:29:22</td>\n",
       "      <td>2016-12-01 00:39:51</td>\n",
       "      <td>N</td>\n",
       "      <td>1</td>\n",
       "      <td>166</td>\n",
       "      <td>42</td>\n",
       "      <td>1</td>\n",
       "      <td>2.15</td>\n",
       "      <td>9.5</td>\n",
       "      <td>...</td>\n",
       "      <td>2.16</td>\n",
       "      <td>0.0</td>\n",
       "      <td>0.3</td>\n",
       "      <td>12.96</td>\n",
       "      <td>1</td>\n",
       "      <td>1</td>\n",
       "      <td>Manhattan</td>\n",
       "      <td>Boro Zone</td>\n",
       "      <td>Manhattan</td>\n",
       "      <td>Boro Zone</td>\n",
       "    </tr>\n",
       "  </tbody>\n",
       "</table>\n",
       "<p>5 rows × 22 columns</p>\n",
       "</div>"
      ],
      "text/plain": [
       "   VendorID lpep_pickup_datetime lpep_dropoff_datetime store_and_fwd_flag  \\\n",
       "0         2  2016-12-01 00:00:54   2016-12-01 00:06:54                  N   \n",
       "1         2  2016-12-01 00:52:41   2016-12-01 00:54:51                  N   \n",
       "2         2  2016-12-01 00:10:39   2016-12-01 00:14:47                  N   \n",
       "3         2  2016-12-01 00:12:16   2016-12-01 00:15:31                  N   \n",
       "4         2  2016-12-01 00:29:22   2016-12-01 00:39:51                  N   \n",
       "\n",
       "   RatecodeID  PULocationID  DOLocationID  passenger_count  trip_distance  \\\n",
       "0           1            92           192                1           1.29   \n",
       "1           1            92           171                1           0.64   \n",
       "2           1            75           238                2           0.89   \n",
       "3           1           166           151                1           0.66   \n",
       "4           1           166            42                1           2.15   \n",
       "\n",
       "   fare_amount  ...  tip_amount  tolls_amount  improvement_surcharge  \\\n",
       "0          6.5  ...        0.00           0.0                    0.3   \n",
       "1          4.0  ...        1.06           0.0                    0.3   \n",
       "2          5.5  ...        1.70           0.0                    0.3   \n",
       "3          4.5  ...        1.74           0.0                    0.3   \n",
       "4          9.5  ...        2.16           0.0                    0.3   \n",
       "\n",
       "   total_amount  payment_type  trip_type  pickup_boro  pickup_servicezone  \\\n",
       "0          7.80             2          1       Queens           Boro Zone   \n",
       "1          6.36             1          1       Queens           Boro Zone   \n",
       "2          8.50             1          1    Manhattan           Boro Zone   \n",
       "3          7.54             1          1    Manhattan           Boro Zone   \n",
       "4         12.96             1          1    Manhattan           Boro Zone   \n",
       "\n",
       "  dropoff_boro dropoff_servicezone  \n",
       "0       Queens           Boro Zone  \n",
       "1       Queens           Boro Zone  \n",
       "2    Manhattan         Yellow Zone  \n",
       "3    Manhattan         Yellow Zone  \n",
       "4    Manhattan           Boro Zone  \n",
       "\n",
       "[5 rows x 22 columns]"
      ]
     },
     "execution_count": 22,
     "metadata": {},
     "output_type": "execute_result"
    }
   ],
   "source": [
    "df.head()"
   ]
  },
  {
   "cell_type": "markdown",
   "id": "2eddff6c",
   "metadata": {},
   "source": [
    "## New Feature Creation - Could Facilitate our Deeper Diving on the data"
   ]
  },
  {
   "cell_type": "markdown",
   "id": "b5af00ae",
   "metadata": {},
   "source": [
    "### Since Mahattan has two types of taxi areas recordes, we can divide it into yellow taxi area and green taxi area."
   ]
  },
  {
   "cell_type": "code",
   "execution_count": 23,
   "id": "2460dcf4",
   "metadata": {},
   "outputs": [],
   "source": [
    "df['pickup_boro'].loc[(df['pickup_boro'] == 'Manhattan') & (df['pickup_servicezone'] == 'Boro Zone')] = 'Man_green'\n",
    "df['dropoff_boro'].loc[\n",
    "    (df['dropoff_boro'] == 'Manhattan') & (df['dropoff_servicezone'] == 'Boro Zone')] = 'Man_green'\n",
    "\n",
    "df['pickup_boro'].loc[(df['pickup_boro'] == 'Manhattan') & (df['pickup_servicezone'] != 'Boro Zone')] = 'Man_yellow'\n",
    "df['dropoff_boro'].loc[\n",
    "    (df['dropoff_boro'] == 'Manhattan') & (df['dropoff_servicezone'] != 'Boro Zone')] = 'Man_yellow'"
   ]
  },
  {
   "cell_type": "markdown",
   "id": "c9047cd7",
   "metadata": {},
   "source": [
    "### Given borough information, we can also add a trip region feature (within boroughs, cross boroughs or airport trips)."
   ]
  },
  {
   "cell_type": "code",
   "execution_count": 24,
   "id": "5b978814",
   "metadata": {},
   "outputs": [],
   "source": [
    "df['trip_region'] = 'out_of_town'\n",
    "df['trip_region'].loc[(df['pickup_boro'].isin(['Brooklyn', 'Queens', 'Bronx', 'Staten Island', 'Man_green'])) \\\n",
    "                      & (df['dropoff_boro'] == 'Man_yellow')] = 'boro_downtown'\n",
    "df['trip_region'].loc[(df['dropoff_boro'].isin(['Brooklyn', 'Queens', 'Bronx', 'Staten Island', 'Man_green'])) \\\n",
    "                      & (df['pickup_boro'] == 'Man_yellow')] = 'downtown_boro'\n",
    "df['trip_region'].loc[(df['pickup_boro'].isin(['Brooklyn', 'Queens', 'Bronx', 'Staten Island', 'Man_green'])) \\\n",
    "                      & (df['dropoff_boro'].isin(['Brooklyn', 'Queens', 'Bronx', 'Staten Island', 'Man_green'])) \\\n",
    "                      & (df['pickup_boro'] == df['dropoff_boro'])] = 'within_boro'\n",
    "df['trip_region'].loc[(df['pickup_boro'].isin(['Brooklyn', 'Queens', 'Bronx', 'Staten Island', 'Man_green'])) \\\n",
    "                      & (df['dropoff_boro'].isin(['Brooklyn', 'Queens', 'Bronx', 'Staten Island', 'Man_green'])) \\\n",
    "                      & (df['pickup_boro'] != df['dropoff_boro'])] = 'cross_boro'\n",
    "df['trip_region'].loc[\n",
    "    (df['pickup_boro'] == 'Man_yellow') & (df['dropoff_boro'] == 'Man_yellow')] = 'within_downtown'\n",
    "df['trip_region'].loc[\n",
    "    (df['pickup_boro'].isin(['JFK', 'LGA', 'EWR'])) | (df['dropoff_boro'].isin(['JFK', 'LGA', 'EWR'])) \\\n",
    "    | (df['RatecodeID'].isin([2, 3]))] = 'airport'"
   ]
  },
  {
   "cell_type": "markdown",
   "id": "2ff96de5",
   "metadata": {},
   "source": [
    "### There are also some other features worth adding. For example, we have pickup datetime and dropoff datetime, but neither of them could be directly used for analysis, the problem can be solved by calculating trip time in minutes form them. Also trip speed, pick-up and drop-off hours and days are variables that could be used for analyzing trip distance, tips and other trip facts."
   ]
  },
  {
   "cell_type": "code",
   "execution_count": 25,
   "id": "f54ff52d",
   "metadata": {
    "scrolled": true
   },
   "outputs": [],
   "source": [
    "df['lpep_pickup_datetime'] = pd.to_datetime(df['lpep_pickup_datetime'], infer_datetime_format=True)\n",
    "df['lpep_dropoff_datetime'] = pd.to_datetime(df['lpep_dropoff_datetime'], infer_datetime_format=True)\n",
    "tdelta = df['lpep_dropoff_datetime'] - df['lpep_pickup_datetime']\n",
    "df['trip_time'] = tdelta.astype('timedelta64[m]')\n",
    "\n",
    "df['trip_speed'] = df['trip_distance'] / df['trip_time']\n",
    "\n",
    "df['trip_logdist'] = df['trip_distance'].apply(lambda x: np.log(x + .01)) \n",
    "#We take the log here in preparation for later use\n",
    "\n",
    "df['pickup_hour'] = df['lpep_pickup_datetime'].dt.hour\n",
    "df['dropoff_hour'] = df['lpep_dropoff_datetime'].dt.hour\n",
    "\n",
    "df['pickup_day']=df['lpep_pickup_datetime'].dt.day_name()\n",
    "df['dropoff_day']=df['lpep_dropoff_datetime'].dt.day_name()"
   ]
  },
  {
   "cell_type": "markdown",
   "id": "93a48d3f",
   "metadata": {},
   "source": [
    "### Now we've created the following new features: \n",
    "### trip_time will contain the duration time of the trip\n",
    "### trip_speed will contain the average speed of the trip\n",
    "### trip_logdist will contain the log transformed distance of the trip\n",
    "### pickup_hour and dropoff_hour with an hour of the day in the 24-hour format. \n",
    "### pickup_day and dropoff_day which will contain the name of the day on which the ride was taken. \n",
    "### pickup_day_no and dropoff_day_no which will contain the day number instead of characters (Mon=0; Tue=1; Wed=2; Thur=3; Fri=4; Sat=5; Sunday=6). "
   ]
  },
  {
   "cell_type": "markdown",
   "id": "3716a8f8",
   "metadata": {},
   "source": [
    "###  Then we can define a function to determine what time of the day the ride was taken. There are 4 time zones created, i.e. ‘Morning’ (6:00 am to 11:59 am); ‘Afternoon’ (12pm to 3:59 pm); ‘Evening’ (4:00 pm to 9:59 pm); ‘Midnight’ (10:00 pm to 5:59 am)."
   ]
  },
  {
   "cell_type": "code",
   "execution_count": 26,
   "id": "5d2de0ae",
   "metadata": {},
   "outputs": [],
   "source": [
    "def tod(x):\n",
    "    if x in range(6,12):\n",
    "        return 'Morning'\n",
    "    elif x in range(12,16):\n",
    "        return 'Afternoon'\n",
    "    elif x in range(16,20):\n",
    "        return 'Evening'\n",
    "    else:\n",
    "        return 'Midnight'"
   ]
  },
  {
   "cell_type": "code",
   "execution_count": 27,
   "id": "82de660d",
   "metadata": {},
   "outputs": [],
   "source": [
    "df['pickup_timeofday'] = df['pickup_hour'].apply(tod)\n",
    "df['dropoff_timeofday'] = df['dropoff_hour'].apply(tod)"
   ]
  },
  {
   "cell_type": "markdown",
   "id": "fe330a77",
   "metadata": {},
   "source": [
    "### We could also explore further with the data with Univariate Analysis."
   ]
  },
  {
   "cell_type": "markdown",
   "id": "39c29888",
   "metadata": {},
   "source": [
    "### We could begin with our target variable - trip distance."
   ]
  },
  {
   "cell_type": "markdown",
   "id": "4e1099fa",
   "metadata": {},
   "source": [
    "## Trip Distance"
   ]
  },
  {
   "cell_type": "code",
   "execution_count": 28,
   "id": "864fd6ca",
   "metadata": {},
   "outputs": [
    {
     "data": {
      "text/plain": [
       "0.90      15655\n",
       "0.80      15398\n",
       "1.00      15304\n",
       "0.00      15183\n",
       "1.10      14173\n",
       "          ...  \n",
       "111.91        1\n",
       "31.60         1\n",
       "44.24         1\n",
       "47.60         1\n",
       "29.88         1\n",
       "Name: trip_distance, Length: 3052, dtype: int64"
      ]
     },
     "execution_count": 28,
     "metadata": {},
     "output_type": "execute_result"
    }
   ],
   "source": [
    "df['trip_distance'].value_counts() #to first observe the details of the distribution"
   ]
  },
  {
   "cell_type": "markdown",
   "id": "4a372644",
   "metadata": {},
   "source": [
    "### To know about the feature more clearly we could plot a histogram of trip distance as shown below."
   ]
  },
  {
   "cell_type": "code",
   "execution_count": 29,
   "id": "83cb5c4a",
   "metadata": {},
   "outputs": [
    {
     "data": {
      "image/png": "[encoded data removed]",
      "text/plain": [
       "<Figure size 432x288 with 1 Axes>"
      ]
     },
     "metadata": {
      "needs_background": "light"
     },
     "output_type": "display_data"
    }
   ],
   "source": [
    "plt.hist(df['trip_distance'], bins = 50) \n",
    "#from the value counts given above we could set bins to simplify the histogram by shrinkaging the value range.\n",
    "plt.ticklabel_format(style='plain') # to prevent scientific notation.\n",
    "plt.show()"
   ]
  },
  {
   "cell_type": "code",
   "execution_count": 30,
   "id": "48acbf7c",
   "metadata": {},
   "outputs": [
    {
     "data": {
      "text/plain": [
       "<AxesSubplot:xlabel='trip_distance'>"
      ]
     },
     "execution_count": 30,
     "metadata": {},
     "output_type": "execute_result"
    },
    {
     "data": {
      "image/png": "[encoded data removed]",
      "text/plain": [
       "<Figure size 432x288 with 1 Axes>"
      ]
     },
     "metadata": {
      "needs_background": "light"
     },
     "output_type": "display_data"
    }
   ],
   "source": [
    "sns.boxplot(df['trip_distance'])"
   ]
  },
  {
   "cell_type": "markdown",
   "id": "e2fb8fa6",
   "metadata": {},
   "source": [
    "### There are some obvious outliers."
   ]
  },
  {
   "cell_type": "markdown",
   "id": "42f07577",
   "metadata": {},
   "source": [
    "## Trip Time"
   ]
  },
  {
   "cell_type": "code",
   "execution_count": 31,
   "id": "e853bfbf",
   "metadata": {},
   "outputs": [
    {
     "data": {
      "text/plain": [
       "5.0       88647\n",
       "6.0       85813\n",
       "4.0       85171\n",
       "7.0       80506\n",
       "8.0       73899\n",
       "          ...  \n",
       "1288.0        1\n",
       "969.0         1\n",
       "874.0         1\n",
       "778.0         1\n",
       "251.0         1\n",
       "Name: trip_time, Length: 1143, dtype: int64"
      ]
     },
     "execution_count": 31,
     "metadata": {},
     "output_type": "execute_result"
    }
   ],
   "source": [
    "df['trip_time'].value_counts()"
   ]
  },
  {
   "cell_type": "code",
   "execution_count": 32,
   "id": "4ff9dd89",
   "metadata": {},
   "outputs": [
    {
     "data": {
      "image/png": "[encoded data removed]",
      "text/plain": [
       "<Figure size 432x288 with 1 Axes>"
      ]
     },
     "metadata": {
      "needs_background": "light"
     },
     "output_type": "display_data"
    }
   ],
   "source": [
    "plt.hist(df['trip_time']) \n",
    "plt.ticklabel_format(style='plain')\n",
    "plt.show()"
   ]
  },
  {
   "cell_type": "markdown",
   "id": "169a0b0a",
   "metadata": {},
   "source": [
    "### The reasons for 0 duration trips might be the driver deliberately entered the ride to complete a target number of rides, the passenger canceled the trip, or the dropoff datetime couldn't be tracked, etc.."
   ]
  },
  {
   "cell_type": "markdown",
   "id": "254f3f60",
   "metadata": {},
   "source": [
    "### Let's see if 0-duration trips are also 0-distance trips."
   ]
  },
  {
   "cell_type": "code",
   "execution_count": 33,
   "id": "ca64a983",
   "metadata": {},
   "outputs": [
    {
     "data": {
      "text/html": [
       "<div>\n",
       "<style scoped>\n",
       "    .dataframe tbody tr th:only-of-type {\n",
       "        vertical-align: middle;\n",
       "    }\n",
       "\n",
       "    .dataframe tbody tr th {\n",
       "        vertical-align: top;\n",
       "    }\n",
       "\n",
       "    .dataframe thead th {\n",
       "        text-align: right;\n",
       "    }\n",
       "</style>\n",
       "<table border=\"1\" class=\"dataframe\">\n",
       "  <thead>\n",
       "    <tr style=\"text-align: right;\">\n",
       "      <th></th>\n",
       "      <th>VendorID</th>\n",
       "      <th>lpep_pickup_datetime</th>\n",
       "      <th>lpep_dropoff_datetime</th>\n",
       "      <th>store_and_fwd_flag</th>\n",
       "      <th>RatecodeID</th>\n",
       "      <th>PULocationID</th>\n",
       "      <th>DOLocationID</th>\n",
       "      <th>passenger_count</th>\n",
       "      <th>trip_distance</th>\n",
       "      <th>fare_amount</th>\n",
       "      <th>...</th>\n",
       "      <th>trip_region</th>\n",
       "      <th>trip_time</th>\n",
       "      <th>trip_speed</th>\n",
       "      <th>trip_logdist</th>\n",
       "      <th>pickup_hour</th>\n",
       "      <th>dropoff_hour</th>\n",
       "      <th>pickup_day</th>\n",
       "      <th>dropoff_day</th>\n",
       "      <th>pickup_timeofday</th>\n",
       "      <th>dropoff_timeofday</th>\n",
       "    </tr>\n",
       "  </thead>\n",
       "  <tbody>\n",
       "    <tr>\n",
       "      <th>212</th>\n",
       "      <td>2</td>\n",
       "      <td>2016-12-01 00:36:38</td>\n",
       "      <td>2016-12-01 00:36:39</td>\n",
       "      <td>N</td>\n",
       "      <td>5</td>\n",
       "      <td>53</td>\n",
       "      <td>53</td>\n",
       "      <td>1</td>\n",
       "      <td>0.0</td>\n",
       "      <td>10.0</td>\n",
       "      <td>...</td>\n",
       "      <td>within_boro</td>\n",
       "      <td>0.0</td>\n",
       "      <td>NaN</td>\n",
       "      <td>-4.60517</td>\n",
       "      <td>0</td>\n",
       "      <td>0</td>\n",
       "      <td>Thursday</td>\n",
       "      <td>Thursday</td>\n",
       "      <td>Midnight</td>\n",
       "      <td>Midnight</td>\n",
       "    </tr>\n",
       "    <tr>\n",
       "      <th>422</th>\n",
       "      <td>2</td>\n",
       "      <td>2016-12-01 00:42:37</td>\n",
       "      <td>2016-12-01 00:42:41</td>\n",
       "      <td>N</td>\n",
       "      <td>1</td>\n",
       "      <td>228</td>\n",
       "      <td>228</td>\n",
       "      <td>1</td>\n",
       "      <td>0.0</td>\n",
       "      <td>2.5</td>\n",
       "      <td>...</td>\n",
       "      <td>within_boro</td>\n",
       "      <td>0.0</td>\n",
       "      <td>NaN</td>\n",
       "      <td>-4.60517</td>\n",
       "      <td>0</td>\n",
       "      <td>0</td>\n",
       "      <td>Thursday</td>\n",
       "      <td>Thursday</td>\n",
       "      <td>Midnight</td>\n",
       "      <td>Midnight</td>\n",
       "    </tr>\n",
       "    <tr>\n",
       "      <th>450</th>\n",
       "      <td>2</td>\n",
       "      <td>2016-12-01 00:00:30</td>\n",
       "      <td>2016-12-01 00:10:12</td>\n",
       "      <td>N</td>\n",
       "      <td>1</td>\n",
       "      <td>42</td>\n",
       "      <td>74</td>\n",
       "      <td>1</td>\n",
       "      <td>0.0</td>\n",
       "      <td>7.0</td>\n",
       "      <td>...</td>\n",
       "      <td>within_boro</td>\n",
       "      <td>9.0</td>\n",
       "      <td>0.0</td>\n",
       "      <td>-4.60517</td>\n",
       "      <td>0</td>\n",
       "      <td>0</td>\n",
       "      <td>Thursday</td>\n",
       "      <td>Thursday</td>\n",
       "      <td>Midnight</td>\n",
       "      <td>Midnight</td>\n",
       "    </tr>\n",
       "    <tr>\n",
       "      <th>451</th>\n",
       "      <td>2</td>\n",
       "      <td>2016-12-01 00:17:38</td>\n",
       "      <td>2016-12-01 00:19:49</td>\n",
       "      <td>N</td>\n",
       "      <td>1</td>\n",
       "      <td>75</td>\n",
       "      <td>74</td>\n",
       "      <td>1</td>\n",
       "      <td>0.0</td>\n",
       "      <td>3.5</td>\n",
       "      <td>...</td>\n",
       "      <td>within_boro</td>\n",
       "      <td>2.0</td>\n",
       "      <td>0.0</td>\n",
       "      <td>-4.60517</td>\n",
       "      <td>0</td>\n",
       "      <td>0</td>\n",
       "      <td>Thursday</td>\n",
       "      <td>Thursday</td>\n",
       "      <td>Midnight</td>\n",
       "      <td>Midnight</td>\n",
       "    </tr>\n",
       "    <tr>\n",
       "      <th>452</th>\n",
       "      <td>2</td>\n",
       "      <td>2016-12-01 00:39:41</td>\n",
       "      <td>2016-12-01 00:51:54</td>\n",
       "      <td>N</td>\n",
       "      <td>1</td>\n",
       "      <td>42</td>\n",
       "      <td>116</td>\n",
       "      <td>1</td>\n",
       "      <td>0.0</td>\n",
       "      <td>8.5</td>\n",
       "      <td>...</td>\n",
       "      <td>within_boro</td>\n",
       "      <td>12.0</td>\n",
       "      <td>0.0</td>\n",
       "      <td>-4.60517</td>\n",
       "      <td>0</td>\n",
       "      <td>0</td>\n",
       "      <td>Thursday</td>\n",
       "      <td>Thursday</td>\n",
       "      <td>Midnight</td>\n",
       "      <td>Midnight</td>\n",
       "    </tr>\n",
       "  </tbody>\n",
       "</table>\n",
       "<p>5 rows × 32 columns</p>\n",
       "</div>"
      ],
      "text/plain": [
       "     VendorID lpep_pickup_datetime lpep_dropoff_datetime store_and_fwd_flag  \\\n",
       "212         2  2016-12-01 00:36:38   2016-12-01 00:36:39                  N   \n",
       "422         2  2016-12-01 00:42:37   2016-12-01 00:42:41                  N   \n",
       "450         2  2016-12-01 00:00:30   2016-12-01 00:10:12                  N   \n",
       "451         2  2016-12-01 00:17:38   2016-12-01 00:19:49                  N   \n",
       "452         2  2016-12-01 00:39:41   2016-12-01 00:51:54                  N   \n",
       "\n",
       "     RatecodeID  PULocationID  DOLocationID  passenger_count  trip_distance  \\\n",
       "212           5            53            53                1            0.0   \n",
       "422           1           228           228                1            0.0   \n",
       "450           1            42            74                1            0.0   \n",
       "451           1            75            74                1            0.0   \n",
       "452           1            42           116                1            0.0   \n",
       "\n",
       "     fare_amount  ...  trip_region  trip_time  trip_speed  trip_logdist  \\\n",
       "212         10.0  ...  within_boro        0.0         NaN      -4.60517   \n",
       "422          2.5  ...  within_boro        0.0         NaN      -4.60517   \n",
       "450          7.0  ...  within_boro        9.0         0.0      -4.60517   \n",
       "451          3.5  ...  within_boro        2.0         0.0      -4.60517   \n",
       "452          8.5  ...  within_boro       12.0         0.0      -4.60517   \n",
       "\n",
       "     pickup_hour  dropoff_hour  pickup_day  dropoff_day pickup_timeofday  \\\n",
       "212            0             0    Thursday     Thursday         Midnight   \n",
       "422            0             0    Thursday     Thursday         Midnight   \n",
       "450            0             0    Thursday     Thursday         Midnight   \n",
       "451            0             0    Thursday     Thursday         Midnight   \n",
       "452            0             0    Thursday     Thursday         Midnight   \n",
       "\n",
       "    dropoff_timeofday  \n",
       "212          Midnight  \n",
       "422          Midnight  \n",
       "450          Midnight  \n",
       "451          Midnight  \n",
       "452          Midnight  \n",
       "\n",
       "[5 rows x 32 columns]"
      ]
     },
     "execution_count": 33,
     "metadata": {},
     "output_type": "execute_result"
    }
   ],
   "source": [
    "df[df.trip_distance==0].head()"
   ]
  },
  {
   "cell_type": "code",
   "execution_count": 34,
   "id": "5d318546",
   "metadata": {},
   "outputs": [
    {
     "data": {
      "text/html": [
       "<div>\n",
       "<style scoped>\n",
       "    .dataframe tbody tr th:only-of-type {\n",
       "        vertical-align: middle;\n",
       "    }\n",
       "\n",
       "    .dataframe tbody tr th {\n",
       "        vertical-align: top;\n",
       "    }\n",
       "\n",
       "    .dataframe thead th {\n",
       "        text-align: right;\n",
       "    }\n",
       "</style>\n",
       "<table border=\"1\" class=\"dataframe\">\n",
       "  <thead>\n",
       "    <tr style=\"text-align: right;\">\n",
       "      <th></th>\n",
       "      <th>VendorID</th>\n",
       "      <th>lpep_pickup_datetime</th>\n",
       "      <th>lpep_dropoff_datetime</th>\n",
       "      <th>store_and_fwd_flag</th>\n",
       "      <th>RatecodeID</th>\n",
       "      <th>PULocationID</th>\n",
       "      <th>DOLocationID</th>\n",
       "      <th>passenger_count</th>\n",
       "      <th>trip_distance</th>\n",
       "      <th>fare_amount</th>\n",
       "      <th>...</th>\n",
       "      <th>trip_region</th>\n",
       "      <th>trip_time</th>\n",
       "      <th>trip_speed</th>\n",
       "      <th>trip_logdist</th>\n",
       "      <th>pickup_hour</th>\n",
       "      <th>dropoff_hour</th>\n",
       "      <th>pickup_day</th>\n",
       "      <th>dropoff_day</th>\n",
       "      <th>pickup_timeofday</th>\n",
       "      <th>dropoff_timeofday</th>\n",
       "    </tr>\n",
       "  </thead>\n",
       "  <tbody>\n",
       "    <tr>\n",
       "      <th>1223305</th>\n",
       "      <td>2</td>\n",
       "      <td>2016-12-31 23:54:13</td>\n",
       "      <td>2016-12-31 23:54:16</td>\n",
       "      <td>N</td>\n",
       "      <td>5</td>\n",
       "      <td>89</td>\n",
       "      <td>89</td>\n",
       "      <td>1</td>\n",
       "      <td>0.0</td>\n",
       "      <td>8.0</td>\n",
       "      <td>...</td>\n",
       "      <td>within_boro</td>\n",
       "      <td>0.0</td>\n",
       "      <td>NaN</td>\n",
       "      <td>-4.60517</td>\n",
       "      <td>23</td>\n",
       "      <td>23</td>\n",
       "      <td>Saturday</td>\n",
       "      <td>Saturday</td>\n",
       "      <td>Midnight</td>\n",
       "      <td>Midnight</td>\n",
       "    </tr>\n",
       "    <tr>\n",
       "      <th>1223431</th>\n",
       "      <td>2</td>\n",
       "      <td>2016-12-31 23:43:10</td>\n",
       "      <td>2016-12-31 23:43:12</td>\n",
       "      <td>N</td>\n",
       "      <td>5</td>\n",
       "      <td>9</td>\n",
       "      <td>9</td>\n",
       "      <td>1</td>\n",
       "      <td>0.0</td>\n",
       "      <td>40.0</td>\n",
       "      <td>...</td>\n",
       "      <td>within_boro</td>\n",
       "      <td>0.0</td>\n",
       "      <td>NaN</td>\n",
       "      <td>-4.60517</td>\n",
       "      <td>23</td>\n",
       "      <td>23</td>\n",
       "      <td>Saturday</td>\n",
       "      <td>Saturday</td>\n",
       "      <td>Midnight</td>\n",
       "      <td>Midnight</td>\n",
       "    </tr>\n",
       "    <tr>\n",
       "      <th>1223464</th>\n",
       "      <td>2</td>\n",
       "      <td>2016-12-31 23:27:21</td>\n",
       "      <td>2016-12-31 23:27:45</td>\n",
       "      <td>N</td>\n",
       "      <td>2</td>\n",
       "      <td>80</td>\n",
       "      <td>80</td>\n",
       "      <td>4</td>\n",
       "      <td>0.0</td>\n",
       "      <td>52.0</td>\n",
       "      <td>...</td>\n",
       "      <td>airport</td>\n",
       "      <td>0.0</td>\n",
       "      <td>NaN</td>\n",
       "      <td>-4.60517</td>\n",
       "      <td>23</td>\n",
       "      <td>23</td>\n",
       "      <td>Saturday</td>\n",
       "      <td>Saturday</td>\n",
       "      <td>Midnight</td>\n",
       "      <td>Midnight</td>\n",
       "    </tr>\n",
       "    <tr>\n",
       "      <th>1223557</th>\n",
       "      <td>1</td>\n",
       "      <td>2016-12-31 23:56:32</td>\n",
       "      <td>2016-12-31 23:56:35</td>\n",
       "      <td>N</td>\n",
       "      <td>1</td>\n",
       "      <td>49</td>\n",
       "      <td>49</td>\n",
       "      <td>1</td>\n",
       "      <td>0.0</td>\n",
       "      <td>0.0</td>\n",
       "      <td>...</td>\n",
       "      <td>within_boro</td>\n",
       "      <td>0.0</td>\n",
       "      <td>NaN</td>\n",
       "      <td>-4.60517</td>\n",
       "      <td>23</td>\n",
       "      <td>23</td>\n",
       "      <td>Saturday</td>\n",
       "      <td>Saturday</td>\n",
       "      <td>Midnight</td>\n",
       "      <td>Midnight</td>\n",
       "    </tr>\n",
       "    <tr>\n",
       "      <th>1223708</th>\n",
       "      <td>1</td>\n",
       "      <td>2016-12-31 23:40:14</td>\n",
       "      <td>2016-12-31 23:40:23</td>\n",
       "      <td>N</td>\n",
       "      <td>1</td>\n",
       "      <td>37</td>\n",
       "      <td>37</td>\n",
       "      <td>1</td>\n",
       "      <td>0.0</td>\n",
       "      <td>2.5</td>\n",
       "      <td>...</td>\n",
       "      <td>within_boro</td>\n",
       "      <td>0.0</td>\n",
       "      <td>NaN</td>\n",
       "      <td>-4.60517</td>\n",
       "      <td>23</td>\n",
       "      <td>23</td>\n",
       "      <td>Saturday</td>\n",
       "      <td>Saturday</td>\n",
       "      <td>Midnight</td>\n",
       "      <td>Midnight</td>\n",
       "    </tr>\n",
       "  </tbody>\n",
       "</table>\n",
       "<p>5 rows × 32 columns</p>\n",
       "</div>"
      ],
      "text/plain": [
       "         VendorID lpep_pickup_datetime lpep_dropoff_datetime  \\\n",
       "1223305         2  2016-12-31 23:54:13   2016-12-31 23:54:16   \n",
       "1223431         2  2016-12-31 23:43:10   2016-12-31 23:43:12   \n",
       "1223464         2  2016-12-31 23:27:21   2016-12-31 23:27:45   \n",
       "1223557         1  2016-12-31 23:56:32   2016-12-31 23:56:35   \n",
       "1223708         1  2016-12-31 23:40:14   2016-12-31 23:40:23   \n",
       "\n",
       "        store_and_fwd_flag  RatecodeID  PULocationID  DOLocationID  \\\n",
       "1223305                  N           5            89            89   \n",
       "1223431                  N           5             9             9   \n",
       "1223464                  N           2            80            80   \n",
       "1223557                  N           1            49            49   \n",
       "1223708                  N           1            37            37   \n",
       "\n",
       "         passenger_count  trip_distance  fare_amount  ...  trip_region  \\\n",
       "1223305                1            0.0          8.0  ...  within_boro   \n",
       "1223431                1            0.0         40.0  ...  within_boro   \n",
       "1223464                4            0.0         52.0  ...      airport   \n",
       "1223557                1            0.0          0.0  ...  within_boro   \n",
       "1223708                1            0.0          2.5  ...  within_boro   \n",
       "\n",
       "         trip_time  trip_speed  trip_logdist  pickup_hour  dropoff_hour  \\\n",
       "1223305        0.0         NaN      -4.60517           23            23   \n",
       "1223431        0.0         NaN      -4.60517           23            23   \n",
       "1223464        0.0         NaN      -4.60517           23            23   \n",
       "1223557        0.0         NaN      -4.60517           23            23   \n",
       "1223708        0.0         NaN      -4.60517           23            23   \n",
       "\n",
       "         pickup_day  dropoff_day pickup_timeofday dropoff_timeofday  \n",
       "1223305    Saturday     Saturday         Midnight          Midnight  \n",
       "1223431    Saturday     Saturday         Midnight          Midnight  \n",
       "1223464    Saturday     Saturday         Midnight          Midnight  \n",
       "1223557    Saturday     Saturday         Midnight          Midnight  \n",
       "1223708    Saturday     Saturday         Midnight          Midnight  \n",
       "\n",
       "[5 rows x 32 columns]"
      ]
     },
     "execution_count": 34,
     "metadata": {},
     "output_type": "execute_result"
    }
   ],
   "source": [
    "df[df.trip_distance==0].tail()"
   ]
  },
  {
   "cell_type": "markdown",
   "id": "84d37c9a",
   "metadata": {},
   "source": [
    "### We can see from the tables above that some 0-distance trips have a long duration, while many more of them are within a few seconds. This might be because the dropoff location weren't recorded or passengers canceled their trips."
   ]
  },
  {
   "cell_type": "markdown",
   "id": "ff3932fe",
   "metadata": {},
   "source": [
    "## Fare Amount"
   ]
  },
  {
   "cell_type": "code",
   "execution_count": 35,
   "id": "39767dab",
   "metadata": {},
   "outputs": [
    {
     "data": {
      "text/plain": [
       "0.90      15655\n",
       "0.80      15398\n",
       "1.00      15304\n",
       "0.00      15183\n",
       "1.10      14173\n",
       "          ...  \n",
       "111.91        1\n",
       "31.60         1\n",
       "44.24         1\n",
       "47.60         1\n",
       "29.88         1\n",
       "Name: trip_distance, Length: 3052, dtype: int64"
      ]
     },
     "execution_count": 35,
     "metadata": {},
     "output_type": "execute_result"
    }
   ],
   "source": [
    "df['trip_distance'].value_counts()"
   ]
  },
  {
   "cell_type": "code",
   "execution_count": 36,
   "id": "41b7bd46",
   "metadata": {},
   "outputs": [
    {
     "data": {
      "image/png": "[encoded data removed]",
      "text/plain": [
       "<Figure size 432x288 with 1 Axes>"
      ]
     },
     "metadata": {
      "needs_background": "light"
     },
     "output_type": "display_data"
    }
   ],
   "source": [
    "plt.hist(df['fare_amount']) \n",
    "plt.ticklabel_format(style='plain')\n",
    "plt.show()"
   ]
  },
  {
   "cell_type": "markdown",
   "id": "dbbb5a68",
   "metadata": {},
   "source": [
    "### All above lead us to find that not all data from the dataset are available. Some values are abnormal and extremely different from others. We should remove these data to simplify our data analysis. The criteria are shown below:\n",
    "### Time Distance over 50 miles or equals 0;\n",
    "### Trip time over 200 minutes or equals 0;\n",
    "### Average speed lower than 1 MPH or higher than 240 MPH;\n",
    "### Base fare lower than 2.50 or higher than 250.00, or tip amount higher than twice the base fare;"
   ]
  },
  {
   "cell_type": "code",
   "execution_count": 37,
   "id": "5a41bad6",
   "metadata": {
    "scrolled": true
   },
   "outputs": [
    {
     "name": "stdout",
     "output_type": "stream",
     "text": [
      "Criterion 1 removes 13509 records, sample size is now 1210649\n",
      "Criterion 2 removes 17329 records, sample size is now 1193320\n",
      "Criterion 3 removes 972 records, sample size is now 1192348\n",
      "Criterion 4 removes 4410 records, sample size is now 1187938\n"
     ]
    }
   ],
   "source": [
    "criterion1 = (df['trip_distance']==0) & (df['pickup_boro']!=df['dropoff_boro']) \n",
    "criterion2 = (df['trip_distance']>0) & (df['trip_distance']<50) \n",
    "\n",
    "len_df = len(df)\n",
    "df = df [criterion1 | criterion2]\n",
    "print('Criterion 1 removes',len_df - len(df),'records, sample size is now',len(df))\n",
    "\n",
    "criterion3 = (df['trip_time']==0) & (df['pickup_boro']!=df['dropoff_boro'])\n",
    "criterion4 = (df['trip_time']>0) & (df['trip_time'] <200) \n",
    "\n",
    "len_df = len(df)\n",
    "df = df [criterion3 | criterion4]\n",
    "print('Criterion 2 removes',len_df - len(df),'records, sample size is now',len(df))\n",
    "\n",
    "criterion5 = ((df['trip_speed']< 4) & (df['trip_speed'] > 0.016))|(df['trip_distance']==0) | (df['trip_time'] ==0) \n",
    "\n",
    "len_df = len(df)\n",
    "df = df [criterion5]\n",
    "print('Criterion 3 removes',len_df - len(df),'records, sample size is now',len(df))\n",
    "\n",
    "criterion6 = (df['fare_amount']>=2.5) & (df['fare_amount'] < 250)\n",
    "criterion7 = df['tip_amount'] <= 2*df['fare_amount']\n",
    "\n",
    "len_df = len(df)\n",
    "df = df [criterion6 & criterion7]\n",
    "print('Criterion 4 removes',len_df - len(df),'records, sample size is now',len(df))"
   ]
  },
  {
   "cell_type": "markdown",
   "id": "96610450",
   "metadata": {},
   "source": [
    "### One thing worths mentioning here is that, when it comes to long-distance trips, drivers might not have calculated price over the meter, since fares of some long-distance trips are negotiated or on a flat rate. As a result, 0-distance trips or 0-time trips were recorded if cross-borough. The trip distances and trip times of these kind of trips are imputed based on their rate code, fare amount, and the median speed of all trips with valid trip distance and time."
   ]
  },
  {
   "cell_type": "code",
   "execution_count": 38,
   "id": "07909b8a",
   "metadata": {},
   "outputs": [],
   "source": [
    "# We use median instead of mean here to avoid the effect of outliers\n",
    "speed_md = df['trip_speed'].loc[(df['trip_distance']>0) & (df['trip_time']>0)].median()\n",
    "\n",
    "distance_err = (df['trip_distance']==0) & (df['trip_time']>0)\n",
    "time_err = (df['trip_distance']>0) & (df['trip_time']==0)\n",
    "ratecode_err = (df['trip_distance']==0) & (df['trip_time']==0) & (df['RatecodeID']==2)\n",
    "other_err = (df['trip_distance']==0) & (df['trip_time']==0) & (df['RatecodeID']!=2)\n",
    "\n",
    "# replace trips with distance = 0 and time > 0 with median of speed * trip time                                  \n",
    "df['trip_distance'].loc[distance_err] = df['trip_time'].loc[distance_err]*speed_md\n",
    "\n",
    "# replace trips with distance > 0 and time = 0 with trip distance/median speed \n",
    "df['trip_time'].loc[time_err] = df['trip_distance'].loc[time_err]/speed_md\n",
    "\n",
    "# replace trips with distance = 0, time = 0 and rate code = 2 with median distance and time for rate code = 2\n",
    "df['trip_time'].loc[ratecode_err] = df['trip_time'].loc[(df['trip_distance']>0) & (df['trip_time']>0) \\\n",
    "                                                      & (df['RatecodeID']==2)].median()\n",
    "df['trip_distance'].loc[ratecode_err] = df['trip_distance'].loc[(df['trip_distance']>0) & (df['trip_time']>0) \\\n",
    "                                                      & (df['RatecodeID']==2)].median()\n",
    "\n",
    "# replace trips with distance = 0, time = 0 and rate code !=2 with median distance, time/fare\n",
    "time_p_usd = df['trip_time']/df['fare_amount']\n",
    "distance_p_usd = df['trip_distance']/df['fare_amount']\n",
    "\n",
    "df['trip_time'].loc[other_err] = df['fare_amount'].loc[other_err] * time_p_usd.median()\n",
    "df['trip_distance'].loc[other_err] = df['fare_amount'].loc[other_err] * distance_p_usd.median()\n",
    "\n",
    "# recalculation after imputation\n",
    "df['trip_speed'] = df['trip_distance']/df['trip_time']"
   ]
  },
  {
   "cell_type": "code",
   "execution_count": 39,
   "id": "60ff65b9",
   "metadata": {},
   "outputs": [
    {
     "data": {
      "text/html": [
       "<div>\n",
       "<style scoped>\n",
       "    .dataframe tbody tr th:only-of-type {\n",
       "        vertical-align: middle;\n",
       "    }\n",
       "\n",
       "    .dataframe tbody tr th {\n",
       "        vertical-align: top;\n",
       "    }\n",
       "\n",
       "    .dataframe thead th {\n",
       "        text-align: right;\n",
       "    }\n",
       "</style>\n",
       "<table border=\"1\" class=\"dataframe\">\n",
       "  <thead>\n",
       "    <tr style=\"text-align: right;\">\n",
       "      <th></th>\n",
       "      <th>VendorID</th>\n",
       "      <th>lpep_pickup_datetime</th>\n",
       "      <th>lpep_dropoff_datetime</th>\n",
       "      <th>store_and_fwd_flag</th>\n",
       "      <th>RatecodeID</th>\n",
       "      <th>PULocationID</th>\n",
       "      <th>DOLocationID</th>\n",
       "      <th>passenger_count</th>\n",
       "      <th>trip_distance</th>\n",
       "      <th>fare_amount</th>\n",
       "      <th>...</th>\n",
       "      <th>trip_region</th>\n",
       "      <th>trip_time</th>\n",
       "      <th>trip_speed</th>\n",
       "      <th>trip_logdist</th>\n",
       "      <th>pickup_hour</th>\n",
       "      <th>dropoff_hour</th>\n",
       "      <th>pickup_day</th>\n",
       "      <th>dropoff_day</th>\n",
       "      <th>pickup_timeofday</th>\n",
       "      <th>dropoff_timeofday</th>\n",
       "    </tr>\n",
       "  </thead>\n",
       "  <tbody>\n",
       "    <tr>\n",
       "      <th>0</th>\n",
       "      <td>2</td>\n",
       "      <td>2016-12-01 00:00:54</td>\n",
       "      <td>2016-12-01 00:06:54</td>\n",
       "      <td>N</td>\n",
       "      <td>1</td>\n",
       "      <td>92</td>\n",
       "      <td>192</td>\n",
       "      <td>1</td>\n",
       "      <td>1.29</td>\n",
       "      <td>6.5</td>\n",
       "      <td>...</td>\n",
       "      <td>within_boro</td>\n",
       "      <td>6.0</td>\n",
       "      <td>0.2150</td>\n",
       "      <td>0.262364</td>\n",
       "      <td>0</td>\n",
       "      <td>0</td>\n",
       "      <td>Thursday</td>\n",
       "      <td>Thursday</td>\n",
       "      <td>Midnight</td>\n",
       "      <td>Midnight</td>\n",
       "    </tr>\n",
       "    <tr>\n",
       "      <th>1</th>\n",
       "      <td>2</td>\n",
       "      <td>2016-12-01 00:52:41</td>\n",
       "      <td>2016-12-01 00:54:51</td>\n",
       "      <td>N</td>\n",
       "      <td>1</td>\n",
       "      <td>92</td>\n",
       "      <td>171</td>\n",
       "      <td>1</td>\n",
       "      <td>0.64</td>\n",
       "      <td>4.0</td>\n",
       "      <td>...</td>\n",
       "      <td>within_boro</td>\n",
       "      <td>2.0</td>\n",
       "      <td>0.3200</td>\n",
       "      <td>-0.430783</td>\n",
       "      <td>0</td>\n",
       "      <td>0</td>\n",
       "      <td>Thursday</td>\n",
       "      <td>Thursday</td>\n",
       "      <td>Midnight</td>\n",
       "      <td>Midnight</td>\n",
       "    </tr>\n",
       "    <tr>\n",
       "      <th>2</th>\n",
       "      <td>2</td>\n",
       "      <td>2016-12-01 00:10:39</td>\n",
       "      <td>2016-12-01 00:14:47</td>\n",
       "      <td>N</td>\n",
       "      <td>1</td>\n",
       "      <td>75</td>\n",
       "      <td>238</td>\n",
       "      <td>2</td>\n",
       "      <td>0.89</td>\n",
       "      <td>5.5</td>\n",
       "      <td>...</td>\n",
       "      <td>boro_downtown</td>\n",
       "      <td>4.0</td>\n",
       "      <td>0.2225</td>\n",
       "      <td>-0.105361</td>\n",
       "      <td>0</td>\n",
       "      <td>0</td>\n",
       "      <td>Thursday</td>\n",
       "      <td>Thursday</td>\n",
       "      <td>Midnight</td>\n",
       "      <td>Midnight</td>\n",
       "    </tr>\n",
       "    <tr>\n",
       "      <th>3</th>\n",
       "      <td>2</td>\n",
       "      <td>2016-12-01 00:12:16</td>\n",
       "      <td>2016-12-01 00:15:31</td>\n",
       "      <td>N</td>\n",
       "      <td>1</td>\n",
       "      <td>166</td>\n",
       "      <td>151</td>\n",
       "      <td>1</td>\n",
       "      <td>0.66</td>\n",
       "      <td>4.5</td>\n",
       "      <td>...</td>\n",
       "      <td>boro_downtown</td>\n",
       "      <td>3.0</td>\n",
       "      <td>0.2200</td>\n",
       "      <td>-0.400478</td>\n",
       "      <td>0</td>\n",
       "      <td>0</td>\n",
       "      <td>Thursday</td>\n",
       "      <td>Thursday</td>\n",
       "      <td>Midnight</td>\n",
       "      <td>Midnight</td>\n",
       "    </tr>\n",
       "    <tr>\n",
       "      <th>4</th>\n",
       "      <td>2</td>\n",
       "      <td>2016-12-01 00:29:22</td>\n",
       "      <td>2016-12-01 00:39:51</td>\n",
       "      <td>N</td>\n",
       "      <td>1</td>\n",
       "      <td>166</td>\n",
       "      <td>42</td>\n",
       "      <td>1</td>\n",
       "      <td>2.15</td>\n",
       "      <td>9.5</td>\n",
       "      <td>...</td>\n",
       "      <td>within_boro</td>\n",
       "      <td>10.0</td>\n",
       "      <td>0.2150</td>\n",
       "      <td>0.770108</td>\n",
       "      <td>0</td>\n",
       "      <td>0</td>\n",
       "      <td>Thursday</td>\n",
       "      <td>Thursday</td>\n",
       "      <td>Midnight</td>\n",
       "      <td>Midnight</td>\n",
       "    </tr>\n",
       "  </tbody>\n",
       "</table>\n",
       "<p>5 rows × 32 columns</p>\n",
       "</div>"
      ],
      "text/plain": [
       "   VendorID lpep_pickup_datetime lpep_dropoff_datetime store_and_fwd_flag  \\\n",
       "0         2  2016-12-01 00:00:54   2016-12-01 00:06:54                  N   \n",
       "1         2  2016-12-01 00:52:41   2016-12-01 00:54:51                  N   \n",
       "2         2  2016-12-01 00:10:39   2016-12-01 00:14:47                  N   \n",
       "3         2  2016-12-01 00:12:16   2016-12-01 00:15:31                  N   \n",
       "4         2  2016-12-01 00:29:22   2016-12-01 00:39:51                  N   \n",
       "\n",
       "   RatecodeID  PULocationID  DOLocationID  passenger_count  trip_distance  \\\n",
       "0           1            92           192                1           1.29   \n",
       "1           1            92           171                1           0.64   \n",
       "2           1            75           238                2           0.89   \n",
       "3           1           166           151                1           0.66   \n",
       "4           1           166            42                1           2.15   \n",
       "\n",
       "   fare_amount  ...    trip_region  trip_time  trip_speed  trip_logdist  \\\n",
       "0          6.5  ...    within_boro        6.0      0.2150      0.262364   \n",
       "1          4.0  ...    within_boro        2.0      0.3200     -0.430783   \n",
       "2          5.5  ...  boro_downtown        4.0      0.2225     -0.105361   \n",
       "3          4.5  ...  boro_downtown        3.0      0.2200     -0.400478   \n",
       "4          9.5  ...    within_boro       10.0      0.2150      0.770108   \n",
       "\n",
       "   pickup_hour  dropoff_hour  pickup_day  dropoff_day pickup_timeofday  \\\n",
       "0            0             0    Thursday     Thursday         Midnight   \n",
       "1            0             0    Thursday     Thursday         Midnight   \n",
       "2            0             0    Thursday     Thursday         Midnight   \n",
       "3            0             0    Thursday     Thursday         Midnight   \n",
       "4            0             0    Thursday     Thursday         Midnight   \n",
       "\n",
       "  dropoff_timeofday  \n",
       "0          Midnight  \n",
       "1          Midnight  \n",
       "2          Midnight  \n",
       "3          Midnight  \n",
       "4          Midnight  \n",
       "\n",
       "[5 rows x 32 columns]"
      ]
     },
     "execution_count": 39,
     "metadata": {},
     "output_type": "execute_result"
    }
   ],
   "source": [
    "df.head()"
   ]
  },
  {
   "cell_type": "markdown",
   "id": "ebc0322b",
   "metadata": {},
   "source": [
    "## Now we can plot a histogram of counts of our target variable - Trip Distance."
   ]
  },
  {
   "cell_type": "code",
   "execution_count": 40,
   "id": "6f3a16d6",
   "metadata": {},
   "outputs": [
    {
     "name": "stdout",
     "output_type": "stream",
     "text": [
      "The average trip distance = 2.7 , the standard deviation = 2.8\n",
      "The median trip distance = 1.7 , 95% of trip distances are from 0.42 to 10.2\n"
     ]
    },
    {
     "data": {
      "image/png": "[encoded data removed]",
      "text/plain": [
       "<Figure size 648x216 with 2 Axes>"
      ]
     },
     "metadata": {
      "needs_background": "light"
     },
     "output_type": "display_data"
    }
   ],
   "source": [
    "# trip distance histogram with raw data and cleaned data\n",
    "fig, axs = plt.subplots(1,2)\n",
    "fig.set_size_inches(9, 3)\n",
    "fig.subplots_adjust(wspace=.5)\n",
    "\n",
    "axs[0].hist(data['trip_distance'],bins=50);\n",
    "axs[0].set_title('Histogram of Trip Distance - Raw Data')\n",
    "axs[0].set_xlabel('Trip Distance (in mile)')\n",
    "axs[0].set_ylabel('Record Counts')\n",
    "\n",
    "axs[1].hist(df['trip_distance'],bins=50);\n",
    "axs[1].set_title('Histogram of Trip Distance - Cleaned Data')\n",
    "axs[1].set_xlabel('Trip Distance (in mile)')\n",
    "axs[1].set_ylabel('Record Counts');\n",
    "\n",
    "print('The average trip distance =',round(df['trip_distance'].mean(),1),', the standard deviation =',round(df['trip_distance'].std(),1))\n",
    "print('The median trip distance =',round(df['trip_distance'].median(),1),', 95% of trip distances are from',\n",
    "      round(df['trip_distance'].quantile(.025),2),'to',round(df['trip_distance'].quantile(.975), 1))"
   ]
  },
  {
   "cell_type": "markdown",
   "id": "20268992",
   "metadata": {},
   "source": [
    "### The distribution of raw-data trip distance is very right skewed, with most of them falling on the lower range and only a few large values which are not implausible. The problem of right skewness is reduced by our data cleaning. In the cleaned dataset, the average distance is 2.7 , the standard deviation is 2.8.; the median distance is 1.7, and the 95% of trips distance fall between 0.42 and 10.2. Because of the high right-skewness of the trip distance data, the median distance is a better than the mean distance in measuring overall trip distance."
   ]
  },
  {
   "cell_type": "markdown",
   "id": "380d1f74",
   "metadata": {},
   "source": [
    "### We can make an assumption that the distribution might follow a log-normal distribution based on the histograms above. This hypothesis is supported by the closeness to normal distribution of log transformed trip distances, as well as the QQ plot shown below, in which the tracked values are very close to the expected values."
   ]
  },
  {
   "cell_type": "code",
   "execution_count": 41,
   "id": "b2106090",
   "metadata": {},
   "outputs": [
    {
     "data": {
      "image/png": "[encoded data removed]",
      "text/plain": [
       "<Figure size 648x216 with 2 Axes>"
      ]
     },
     "metadata": {
      "needs_background": "light"
     },
     "output_type": "display_data"
    }
   ],
   "source": [
    "df['trip_logdist'] = df['trip_distance'].apply(lambda x: np.log(x))\n",
    "df = df[np.isfinite(df['trip_logdist'])]\n",
    "\n",
    "fig, axs = plt.subplots(1,2)\n",
    "fig.set_size_inches(9, 3)\n",
    "fig.subplots_adjust(wspace=.5)\n",
    "\n",
    "axs[0].hist(df['trip_logdist'], bins=50);\n",
    "axs[0].set_title('Histogram of Log-transformed Trip Distance')\n",
    "axs[0].set_ylabel('Record Counts');\n",
    "\n",
    "stats.probplot(df['trip_logdist'].sample(3000), dist=\"norm\", plot=axs[1])\n",
    "axs[1].set_title('QQ plot of Log-transformed Trip Distance');"
   ]
  },
  {
   "cell_type": "markdown",
   "id": "4ae21b8c",
   "metadata": {},
   "source": [
    "# Question 3.  [Interesting Trip Statistics Grouped by Hour]"
   ]
  },
  {
   "cell_type": "markdown",
   "id": "641665ff",
   "metadata": {},
   "source": [
    "## Trip distance per hour of week"
   ]
  },
  {
   "cell_type": "code",
   "execution_count": 42,
   "id": "b8c030a5",
   "metadata": {
    "scrolled": true
   },
   "outputs": [
    {
     "data": {
      "text/plain": [
       "<AxesSubplot:xlabel='pickup_hour', ylabel='trip_distance'>"
      ]
     },
     "execution_count": 42,
     "metadata": {},
     "output_type": "execute_result"
    },
    {
     "data": {
      "image/png": "[encoded data removed]",
      "text/plain": [
       "<Figure size 432x288 with 1 Axes>"
      ]
     },
     "metadata": {
      "needs_background": "light"
     },
     "output_type": "display_data"
    }
   ],
   "source": [
    "sns.lineplot(x='pickup_hour', y='trip_distance', data=df)"
   ]
  },
  {
   "cell_type": "markdown",
   "id": "ee07c4e8",
   "metadata": {},
   "source": [
    "### Longest trips are more likely to happen around 5am. What's the reason? Will it be related to airport trips which oftern occur around this time? Let's conduct analysis on this now."
   ]
  },
  {
   "cell_type": "markdown",
   "id": "525df4b7",
   "metadata": {},
   "source": [
    "### Let's first look at the mean and median trip distance grouped by hour."
   ]
  },
  {
   "cell_type": "code",
   "execution_count": 43,
   "id": "165a5c7f",
   "metadata": {},
   "outputs": [
    {
     "data": {
      "text/html": [
       "<div>\n",
       "<style scoped>\n",
       "    .dataframe tbody tr th:only-of-type {\n",
       "        vertical-align: middle;\n",
       "    }\n",
       "\n",
       "    .dataframe tbody tr th {\n",
       "        vertical-align: top;\n",
       "    }\n",
       "\n",
       "    .dataframe thead th {\n",
       "        text-align: right;\n",
       "    }\n",
       "</style>\n",
       "<table border=\"1\" class=\"dataframe\">\n",
       "  <thead>\n",
       "    <tr style=\"text-align: right;\">\n",
       "      <th></th>\n",
       "      <th>trip_distance_mean</th>\n",
       "      <th>trip_distance_medium</th>\n",
       "    </tr>\n",
       "    <tr>\n",
       "      <th>pickup_hour</th>\n",
       "      <th></th>\n",
       "      <th></th>\n",
       "    </tr>\n",
       "  </thead>\n",
       "  <tbody>\n",
       "    <tr>\n",
       "      <th>0</th>\n",
       "      <td>2.854463</td>\n",
       "      <td>1.90</td>\n",
       "    </tr>\n",
       "    <tr>\n",
       "      <th>1</th>\n",
       "      <td>2.854388</td>\n",
       "      <td>1.92</td>\n",
       "    </tr>\n",
       "    <tr>\n",
       "      <th>2</th>\n",
       "      <td>2.952423</td>\n",
       "      <td>2.00</td>\n",
       "    </tr>\n",
       "    <tr>\n",
       "      <th>3</th>\n",
       "      <td>3.090569</td>\n",
       "      <td>2.10</td>\n",
       "    </tr>\n",
       "    <tr>\n",
       "      <th>4</th>\n",
       "      <td>3.382069</td>\n",
       "      <td>2.22</td>\n",
       "    </tr>\n",
       "    <tr>\n",
       "      <th>5</th>\n",
       "      <td>4.104611</td>\n",
       "      <td>2.77</td>\n",
       "    </tr>\n",
       "    <tr>\n",
       "      <th>6</th>\n",
       "      <td>3.984922</td>\n",
       "      <td>2.73</td>\n",
       "    </tr>\n",
       "    <tr>\n",
       "      <th>7</th>\n",
       "      <td>2.998429</td>\n",
       "      <td>1.90</td>\n",
       "    </tr>\n",
       "    <tr>\n",
       "      <th>8</th>\n",
       "      <td>2.715750</td>\n",
       "      <td>1.70</td>\n",
       "    </tr>\n",
       "    <tr>\n",
       "      <th>9</th>\n",
       "      <td>2.746526</td>\n",
       "      <td>1.73</td>\n",
       "    </tr>\n",
       "    <tr>\n",
       "      <th>10</th>\n",
       "      <td>2.710443</td>\n",
       "      <td>1.70</td>\n",
       "    </tr>\n",
       "    <tr>\n",
       "      <th>11</th>\n",
       "      <td>2.695406</td>\n",
       "      <td>1.71</td>\n",
       "    </tr>\n",
       "    <tr>\n",
       "      <th>12</th>\n",
       "      <td>2.677596</td>\n",
       "      <td>1.72</td>\n",
       "    </tr>\n",
       "    <tr>\n",
       "      <th>13</th>\n",
       "      <td>2.676120</td>\n",
       "      <td>1.70</td>\n",
       "    </tr>\n",
       "    <tr>\n",
       "      <th>14</th>\n",
       "      <td>2.628550</td>\n",
       "      <td>1.68</td>\n",
       "    </tr>\n",
       "    <tr>\n",
       "      <th>15</th>\n",
       "      <td>2.567314</td>\n",
       "      <td>1.64</td>\n",
       "    </tr>\n",
       "    <tr>\n",
       "      <th>16</th>\n",
       "      <td>2.518428</td>\n",
       "      <td>1.64</td>\n",
       "    </tr>\n",
       "    <tr>\n",
       "      <th>17</th>\n",
       "      <td>2.413312</td>\n",
       "      <td>1.60</td>\n",
       "    </tr>\n",
       "    <tr>\n",
       "      <th>18</th>\n",
       "      <td>2.359367</td>\n",
       "      <td>1.59</td>\n",
       "    </tr>\n",
       "    <tr>\n",
       "      <th>19</th>\n",
       "      <td>2.363211</td>\n",
       "      <td>1.60</td>\n",
       "    </tr>\n",
       "    <tr>\n",
       "      <th>20</th>\n",
       "      <td>2.456487</td>\n",
       "      <td>1.63</td>\n",
       "    </tr>\n",
       "    <tr>\n",
       "      <th>21</th>\n",
       "      <td>2.585816</td>\n",
       "      <td>1.71</td>\n",
       "    </tr>\n",
       "    <tr>\n",
       "      <th>22</th>\n",
       "      <td>2.709119</td>\n",
       "      <td>1.80</td>\n",
       "    </tr>\n",
       "    <tr>\n",
       "      <th>23</th>\n",
       "      <td>2.780106</td>\n",
       "      <td>1.88</td>\n",
       "    </tr>\n",
       "  </tbody>\n",
       "</table>\n",
       "</div>"
      ],
      "text/plain": [
       "             trip_distance_mean  trip_distance_medium\n",
       "pickup_hour                                          \n",
       "0                      2.854463                  1.90\n",
       "1                      2.854388                  1.92\n",
       "2                      2.952423                  2.00\n",
       "3                      3.090569                  2.10\n",
       "4                      3.382069                  2.22\n",
       "5                      4.104611                  2.77\n",
       "6                      3.984922                  2.73\n",
       "7                      2.998429                  1.90\n",
       "8                      2.715750                  1.70\n",
       "9                      2.746526                  1.73\n",
       "10                     2.710443                  1.70\n",
       "11                     2.695406                  1.71\n",
       "12                     2.677596                  1.72\n",
       "13                     2.676120                  1.70\n",
       "14                     2.628550                  1.68\n",
       "15                     2.567314                  1.64\n",
       "16                     2.518428                  1.64\n",
       "17                     2.413312                  1.60\n",
       "18                     2.359367                  1.59\n",
       "19                     2.363211                  1.60\n",
       "20                     2.456487                  1.63\n",
       "21                     2.585816                  1.71\n",
       "22                     2.709119                  1.80\n",
       "23                     2.780106                  1.88"
      ]
     },
     "execution_count": 43,
     "metadata": {},
     "output_type": "execute_result"
    }
   ],
   "source": [
    "dis_hr = df[['trip_distance','pickup_hour']].groupby(by='pickup_hour').mean()\n",
    "dis_hr.columns=['trip_distance_mean']\n",
    "dis_hr['trip_distance_medium']=df[['trip_distance','pickup_hour']].groupby(by='pickup_hour').median()\n",
    "dis_hr"
   ]
  },
  {
   "cell_type": "markdown",
   "id": "5bfdf8e7",
   "metadata": {},
   "source": [
    "### Mean trip distances are higher than median trip distances in general grouped by hour. This might be because of its right-skewed distribution, and the means are bigger possibly because of some outliers. Therefore, the medians could better stand for the overall tendency of trip distances."
   ]
  },
  {
   "cell_type": "code",
   "execution_count": 44,
   "id": "1e375791",
   "metadata": {},
   "outputs": [],
   "source": [
    "# Define airport trips\n",
    "## rate code = 2/3; pickup or dropoff at JFK, LGA, or EWR\n",
    "air = (df['RatecodeID'].isin([2,3]))| (df['pickup_boro'].isin(['JFK','LGA','EWR'])) | (df['dropoff_boro'].isin(['JFK','LGA','EWR']))\n",
    "\n",
    "df['airport_trip'] = 'nonairport'\n",
    "df['airport_trip'].loc[air] = 'airport'"
   ]
  },
  {
   "cell_type": "code",
   "execution_count": 45,
   "id": "db824c37",
   "metadata": {},
   "outputs": [
    {
     "data": {
      "image/png": "[encoded data removed]",
      "text/plain": [
       "<Figure size 648x216 with 2 Axes>"
      ]
     },
     "metadata": {
      "needs_background": "light"
     },
     "output_type": "display_data"
    }
   ],
   "source": [
    "# Percent of airport and non-airport trips grouped by hour\n",
    "trip_cnt = df.groupby(by=['pickup_hour','airport_trip']).count()['trip_distance'].unstack()\n",
    "trip_cnt['total'] = trip_cnt['airport'] + trip_cnt['nonairport'] \n",
    "trip_cnt['airport_pct'] = 100 * trip_cnt['airport']/trip_cnt['total']\n",
    "trip_cnt['nonairport_pct'] = 100 * trip_cnt['nonairport']/trip_cnt['total']\n",
    "\n",
    "fig, ax = plt.subplots(1,2)\n",
    "fig.set_size_inches(9, 3)\n",
    "\n",
    "dis_hr.plot(ax=ax[0]);\n",
    "ax[0].set(xlabel='Pickup Hour', ylabel='Trip Distance (miles)')\n",
    "ax[0].set_title('Mean and median trip distance')\n",
    "ax[0].legend(['Mean Trip Distance', 'Median Trip Distance'])\n",
    "\n",
    "t = list(range(24))\n",
    "ax[1].bar(t, trip_cnt['airport_pct'])\n",
    "ax[1].set(xlabel='Pickup Hour', ylabel='Percent of Airport Trips (%)')\n",
    "ax[1].set_title('Percentage of airport trips by hour');"
   ]
  },
  {
   "cell_type": "markdown",
   "id": "f0533016",
   "metadata": {},
   "source": [
    "### Based on the median-trip-distance figure above, we know that the trip distance fluctuates around 2 miles throughout the day. Trips occuring between 4:00 PM and 6:00 PM seems to be the shortest, and trips occuring around 4:00 AM to 6:00 AM are the longest. The long-distance trips happened in the morning could possibly be a result of the airport rides as we can see from the right-side figure, which show most of the airport trips are between 5:00 AM to 6:00 AM."
   ]
  },
  {
   "cell_type": "markdown",
   "id": "056a53ea",
   "metadata": {},
   "source": [
    "## Trips per Hour"
   ]
  },
  {
   "cell_type": "code",
   "execution_count": 46,
   "id": "54c39401",
   "metadata": {},
   "outputs": [
    {
     "data": {
      "image/png": "[encoded data removed]",
      "text/plain": [
       "<Figure size 1440x360 with 2 Axes>"
      ]
     },
     "metadata": {
      "needs_background": "light"
     },
     "output_type": "display_data"
    }
   ],
   "source": [
    "figure,(ax3,ax4)=plt.subplots(ncols=2,figsize=(20,5))\n",
    "ax3.set_title(\"Trips per Pickup Hour\")\n",
    "ax=sns.countplot(x=\"pickup_hour\",data=df,ax=ax3)\n",
    "ax4.set_title(\"Trips per Dropoff Hour\")\n",
    "ax=sns.countplot(x=\"dropoff_hour\",data=df,ax=ax4)"
   ]
  },
  {
   "cell_type": "markdown",
   "id": "226bcdd4",
   "metadata": {},
   "source": [
    "### We can see that 6:00 pm to 7:00 pm are the busiest hours of a day and this is possibly because it's time when people are leaving from work."
   ]
  },
  {
   "cell_type": "markdown",
   "id": "435991c0",
   "metadata": {},
   "source": [
    "## Trip Speed per Hour"
   ]
  },
  {
   "cell_type": "code",
   "execution_count": 47,
   "id": "8da5a8be",
   "metadata": {},
   "outputs": [
    {
     "data": {
      "image/png": "[encoded data removed]",
      "text/plain": [
       "<Figure size 1440x360 with 2 Axes>"
      ]
     },
     "metadata": {
      "needs_background": "light"
     },
     "output_type": "display_data"
    }
   ],
   "source": [
    "figure,(ax7,ax8)=plt.subplots(ncols=2,figsize=(20,5))\n",
    "ax7.set_title(\"Trip Speed per Pickup Hour\")\n",
    "ax=sns.countplot(x=\"pickup_hour\",data=df,ax=ax7)\n",
    "ax8.set_title(\"Trip Speed per Dropoff Hour\")\n",
    "ax=sns.countplot(x=\"dropoff_hour\",data=df,ax=ax8)"
   ]
  },
  {
   "cell_type": "markdown",
   "id": "ab4522b6",
   "metadata": {},
   "source": [
    "### The trip speed over the 24 hours of a day is shown above. Trips in the early morning and midnight seems to be the fastest. "
   ]
  },
  {
   "cell_type": "markdown",
   "id": "3fc4a6aa",
   "metadata": {},
   "source": [
    "# Question 4. [Trips with Better Tips and Modeling]"
   ]
  },
  {
   "cell_type": "markdown",
   "id": "b68aa577",
   "metadata": {},
   "source": [
    "## We can create a new variable, tip percentage, which could be derived from the tip amount and total amount."
   ]
  },
  {
   "cell_type": "code",
   "execution_count": 48,
   "id": "909617b8",
   "metadata": {},
   "outputs": [],
   "source": [
    "df['tip_percentage'] = 100 * df['tip_amount']/df['total_amount']"
   ]
  },
  {
   "cell_type": "markdown",
   "id": "90f95432",
   "metadata": {},
   "source": [
    "## Then let's build a predictive model for tip percentage. We're using as much data as we can in order to take all candidate features into account. Then we're going to assess its performance using a sample."
   ]
  },
  {
   "cell_type": "markdown",
   "id": "f7730322",
   "metadata": {},
   "source": [
    "## Data Cleaning: \n",
    "#### Since only transactions with credit card payment are available, and some rides were paid after negotiation and there were no tips, we could remove these redundant data for simplicity.\n",
    "#### Trips with 0 passenger are imputed by 1 as it shows the highest frequency in passenger count.\n",
    "#### Missing trip type was imputed by street-hail which has the highest frequency as well\n",
    "\n",
    "## Feature engineering and data cleaning:\n",
    "#### Features indicating day of week, week of month and workday or weekend are created based on pickup date and time. "
   ]
  },
  {
   "cell_type": "code",
   "execution_count": 49,
   "id": "fb6482ef",
   "metadata": {},
   "outputs": [],
   "source": [
    "df['passenger_count'].loc[df['passenger_count']==0] = 1\n",
    "df['trip_type'].loc[df['trip_type'].isnull()] = 1"
   ]
  },
  {
   "cell_type": "code",
   "execution_count": 50,
   "id": "6c6f8e3d",
   "metadata": {},
   "outputs": [],
   "source": [
    "df['week'] = df['lpep_pickup_datetime'].dt.week.astype(str)\n",
    "\n",
    "df['weekend'] = 'weekday'\n",
    "df['weekend'].loc[df['pickup_day'].isin(['Saturday','Sunday'])] = 'weekend'\n",
    "\n",
    "df['day'] = df['lpep_pickup_datetime'].dt.day.astype(str)"
   ]
  },
  {
   "cell_type": "code",
   "execution_count": 51,
   "id": "9690ceff",
   "metadata": {},
   "outputs": [],
   "source": [
    "filter1 = df['payment_type']==1\n",
    "filter2 = (df['RatecodeID']!=5) | (df['tip_percentage']!=0)\n",
    "final_df = df[filter1 & filter2]\n",
    "\n",
    "# Convert categorical variables into continuous variables, passenger count into passenger range\n",
    "final_df['passenger_range'] = pd.Series(pd.cut(final_df['passenger_count'], [0, 2, 5,9], \n",
    "                                        labels=['1-2','3-5','5-9'], retbins=False, right=True))\n",
    "\n",
    "# convert distance into distance range\n",
    "final_df['distance_range'] = pd.Series(pd.cut(final_df['trip_distance'], [0, 1.32, 2.47,4.5,50], \n",
    "                                        labels=['Q1','Q2','Q3','Q4'], retbins=False, right=False))\n",
    "\n",
    "# conver time into time range\n",
    "final_df['time_range'] = pd.Series(pd.cut(final_df['trip_time'],[0,7,12,19,200],labels=['Q1','Q2','Q3','Q4'],\n",
    "                                    include_lowest=True, right=False,retbins=False))\n",
    "\n",
    "# conver pick up hour and drop off hour into time intervals\n",
    "labels=['0-1','2-3','4-5','6-7','8-9','10-11','12-13','14-15','16-17','18-19','20-21','22-23']\n",
    "final_df['pickuphour_range'] = pd.Series(pd.cut(final_df['pickup_hour'], list(np.arange(0,25,2)), labels=labels,right=False))\n",
    "final_df['dropoffhour_range'] = pd.Series(pd.cut(final_df['dropoff_hour'], list(np.arange(0,25,2)), labels=labels,right=False))\n",
    "final_df['speed_range'] = pd.Series(pd.cut(final_df['trip_speed'],[0,0.17,0.21,0.28,3],labels=['Q1','Q2','Q3','Q4'],\n",
    "                                    include_lowest=True, right=False,retbins=False))"
   ]
  },
  {
   "cell_type": "markdown",
   "id": "517e4cbf",
   "metadata": {},
   "source": [
    "### We can then plot the distribution of tip percentage"
   ]
  },
  {
   "cell_type": "code",
   "execution_count": 52,
   "id": "41cf3de8",
   "metadata": {},
   "outputs": [
    {
     "name": "stdout",
     "output_type": "stream",
     "text": [
      "Skewness: -0.549160\n",
      "Kurtosis: 1.163093\n",
      "The average tip percentage = 14.1 , the standard deviation is 7.2\n",
      "The median tip percentage = 16.7 , 95% of tip percentage are between 0.0 and 23.1\n"
     ]
    },
    {
     "data": {
      "image/png": "[encoded data removed]",
      "text/plain": [
       "<Figure size 576x216 with 2 Axes>"
      ]
     },
     "metadata": {
      "needs_background": "light"
     },
     "output_type": "display_data"
    }
   ],
   "source": [
    "fig, ax = plt.subplots(1,2,figsize=(8,3))\n",
    "fig.subplots_adjust(wspace=.5)\n",
    "\n",
    "ax[0].hist(final_df['tip_percentage'], bins=40)\n",
    "ax[0].set(xlabel='Tip amount ($)', ylabel='Trip Count');\n",
    "ax[0].set_ylabel('Frequency')\n",
    "ax[0].set_xlabel('Tip percentage (%)')\n",
    "ax[0].set_title('Tip percentage distribution')\n",
    "\n",
    "stats.probplot(final_df['tip_percentage'].sample(3000), dist=\"norm\", plot=ax[1])\n",
    "ax[1].set_title('QQ plot of tip percentage')\n",
    "\n",
    "print(\"Skewness: %f\" % final_df['tip_percentage'].skew())\n",
    "print(\"Kurtosis: %f\" % final_df['tip_percentage'].kurt())\n",
    "print('The average tip percentage =',round(final_df['tip_percentage'].mean(),1),', the standard deviation is',round(final_df['tip_percentage'].std(),1))\n",
    "print('The median tip percentage =',round(final_df['tip_percentage'].median(),1),', 95% of tip percentage are between',\n",
    "      round(final_df['tip_percentage'].quantile(.025),2),'and',round(final_df['tip_percentage'].quantile(.975), 1))"
   ]
  },
  {
   "cell_type": "markdown",
   "id": "71a30fd1",
   "metadata": {},
   "source": [
    "#### The tip percentage does not follow the normal distribution as we can see from the left-hand figure above, and there are some typical values that are most centered-around, i.e., 0%, 16.7%, 20%, 23%. We cannot help thinking of the values of 0%, 20%, 25%, and 30% which are preset tipping options at checkout because of their closeness to our observed center tipping  values. We could assume that many passengers gave the chose tipping options or skipped tipping."
   ]
  },
  {
   "cell_type": "markdown",
   "id": "12acfaff",
   "metadata": {},
   "source": [
    "## Feature Selection"
   ]
  },
  {
   "cell_type": "markdown",
   "id": "c3cf948f",
   "metadata": {},
   "source": [
    "#### Since the feature “store_and_fwd_flag” is obviously irrelevant to tip percentage, and “payment_type” is uniform for all observations, both of them are excluded from our model."
   ]
  },
  {
   "cell_type": "markdown",
   "id": "71852f1c",
   "metadata": {},
   "source": [
    "#### We can first have a look at the matrix of barplot for continuous variables"
   ]
  },
  {
   "cell_type": "code",
   "execution_count": 53,
   "id": "abb12e31",
   "metadata": {
    "scrolled": true
   },
   "outputs": [
    {
     "data": {
      "image/png": "[encoded data removed]",
      "text/plain": [
       "<Figure size 504x576 with 9 Axes>"
      ]
     },
     "metadata": {
      "needs_background": "light"
     },
     "output_type": "display_data"
    }
   ],
   "source": [
    "fig, ax = plt.subplots(3,3,figsize=(7,8), sharey=True)\n",
    "fig.subplots_adjust(hspace=.4)\n",
    "\n",
    "ad_list =['trip_distance','trip_time', 'trip_speed', 'passenger_count', \n",
    "            'fare_amount', 'extra', 'mta_tax','tolls_amount', 'improvement_surcharge']\n",
    "\n",
    "for i, var in enumerate(ad_list):\n",
    "    c = int(i/3)\n",
    "    r = (i+3) % 3\n",
    "    ax[c][r].scatter(x=var, y=\"tip_percentage\", data=final_df.sample(1000),color='#1f77b4', alpha=.4)\n",
    "    ax[c][r].set(title=var, ylabel='Tip percentage');"
   ]
  },
  {
   "cell_type": "markdown",
   "id": "a03f7eca",
   "metadata": {},
   "source": [
    "#### Then comes the barplot of categorical variables"
   ]
  },
  {
   "cell_type": "code",
   "execution_count": 54,
   "id": "c6d56231",
   "metadata": {},
   "outputs": [
    {
     "data": {
      "image/png": "[encoded data removed]",
      "text/plain": [
       "<Figure size 720x720 with 12 Axes>"
      ]
     },
     "metadata": {
      "needs_background": "light"
     },
     "output_type": "display_data"
    }
   ],
   "source": [
    "fig, ax = plt.subplots(3,4,figsize=(10, 10), sharey=True)\n",
    "fig.subplots_adjust(wspace=.2, hspace=.8)\n",
    "\n",
    "tp_list =['VendorID','RatecodeID', 'trip_type',  'pickup_boro', 'dropoff_boro', \n",
    "           'week', 'weekend','passenger_range','distance_range','time_range',\n",
    "           'speed_range', 'pickuphour_range']\n",
    "\n",
    "for i, var in enumerate(tp_list):\n",
    "    c= int(i/4)\n",
    "    r = (i+4) % 4\n",
    "    sns.barplot(x=var, y=\"tip_percentage\", data=final_df.sample(10000),color='#1f77b4', ax=ax[c][r])#sample to reduce computation time\n",
    "    ax[c][r].set(title=var,ylabel='Tip Percentage',xlabel='')\n",
    "    ax[c][r].set_xticklabels(ax[c][r].get_xticklabels(),rotation=90);"
   ]
  },
  {
   "cell_type": "markdown",
   "id": "1adcc440",
   "metadata": {},
   "source": [
    "#### Figures above respectively show the relationship between tip percentage and continuous features as well as tip percentage and categorical features. We could tell that trip distance and trip time are not in linearly correlation with tip percentage and thus are converted into categorical variables as ranges. Since we drive trip speed from trip distance and time, considering colinearity we are not considering this variable into account in our model building."
   ]
  },
  {
   "cell_type": "markdown",
   "id": "998f29ec",
   "metadata": {},
   "source": [
    "## Model Fitting and Assessment"
   ]
  },
  {
   "cell_type": "markdown",
   "id": "c2b16de7",
   "metadata": {},
   "source": [
    "## Linear Regression"
   ]
  },
  {
   "cell_type": "code",
   "execution_count": 55,
   "id": "8d73d533",
   "metadata": {},
   "outputs": [],
   "source": [
    "import statsmodels.api as sm\n",
    "from statsmodels.formula.api import ols\n",
    "from statsmodels.tools.eval_measures import mse\n",
    "from sklearn_pandas import DataFrameMapper\n",
    "from sklearn.metrics import explained_variance_score\n",
    "from sklearn.model_selection import train_test_split\n",
    "from sklearn.preprocessing import PolynomialFeatures,StandardScaler"
   ]
  },
  {
   "cell_type": "code",
   "execution_count": 56,
   "id": "93650cc4",
   "metadata": {},
   "outputs": [],
   "source": [
    "final_df = pd.get_dummies(final_df, columns=['pickup_day','passenger_range','pickuphour_range','dropoffhour_range',\n",
    "                                   'distance_range','time_range','speed_range','dropoffhour_range',\n",
    "                                   'trip_region','pickup_boro','dropoff_boro','week','weekend','RatecodeID',\n",
    "                                   'VendorID'],\n",
    "                     drop_first =True)"
   ]
  },
  {
   "cell_type": "code",
   "execution_count": 57,
   "id": "7e8b0946",
   "metadata": {},
   "outputs": [],
   "source": [
    "# Generate a dataframe mapper \n",
    "dfmap = DataFrameMapper([\n",
    "    (['fare_amount', 'extra','tolls_amount', 'mta_tax','improvement_surcharge','trip_type'],[StandardScaler()]),\n",
    "        (['distance_range_Q2','distance_range_Q3', 'distance_range_Q4',\n",
    "         'time_range_Q2','time_range_Q3', 'time_range_Q4',\n",
    "         'passenger_range_3-5', 'passenger_range_5-9', \n",
    "         'pickuphour_range_2-3','pickuphour_range_4-5', \n",
    "         'pickuphour_range_6-7', 'pickuphour_range_8-9',\n",
    "         'pickuphour_range_10-11', 'pickuphour_range_12-13',\n",
    "         'pickuphour_range_14-15', 'pickuphour_range_16-17',\n",
    "         'pickuphour_range_18-19', 'pickuphour_range_20-21',\n",
    "         'pickuphour_range_22-23', \n",
    "         'pickup_boro_Brooklyn','pickup_boro_Man_green',\n",
    "         'pickup_boro_Man_yellow', 'pickup_boro_Queens','pickup_boro_Staten Island', \n",
    "         'dropoff_boro_Brooklyn', 'dropoff_boro_EWR', 'pickup_boro_Unknown',\n",
    "         'dropoff_boro_Man_green','dropoff_boro_Man_yellow','dropoff_boro_Queens', \n",
    "         'dropoff_boro_Staten Island', 'dropoff_boro_Unknown',\n",
    "         'week_49','week_50', 'week_51', 'week_52',\n",
    "         'RatecodeID_2', 'RatecodeID_3','RatecodeID_4', 'RatecodeID_5',\n",
    "         'weekend_weekend', 'VendorID_2'], None)])"
   ]
  },
  {
   "cell_type": "code",
   "execution_count": 58,
   "id": "7536ef87",
   "metadata": {},
   "outputs": [
    {
     "name": "stdout",
     "output_type": "stream",
     "text": [
      "RMSE of baseline model with the mean tip percentage is 7.181998566933175\n",
      "RMSE of the full model is 7.023854281089008\n",
      "R-square of the full model is 0.04356048967039794\n"
     ]
    },
    {
     "data": {
      "text/html": [
       "<table class=\"simpletable\">\n",
       "<caption>OLS Regression Results</caption>\n",
       "<tr>\n",
       "  <th>Dep. Variable:</th>     <td>tip_percentage</td>  <th>  R-squared:         </th>  <td>   0.040</td>  \n",
       "</tr>\n",
       "<tr>\n",
       "  <th>Model:</th>                   <td>OLS</td>       <th>  Adj. R-squared:    </th>  <td>   0.040</td>  \n",
       "</tr>\n",
       "<tr>\n",
       "  <th>Method:</th>             <td>Least Squares</td>  <th>  F-statistic:       </th>  <td>   347.7</td>  \n",
       "</tr>\n",
       "<tr>\n",
       "  <th>Date:</th>             <td>Wed, 09 Mar 2022</td> <th>  Prob (F-statistic):</th>   <td>  0.00</td>   \n",
       "</tr>\n",
       "<tr>\n",
       "  <th>Time:</th>                 <td>02:19:11</td>     <th>  Log-Likelihood:    </th> <td>-1.3385e+06</td>\n",
       "</tr>\n",
       "<tr>\n",
       "  <th>No. Observations:</th>      <td>397040</td>      <th>  AIC:               </th>  <td>2.677e+06</td> \n",
       "</tr>\n",
       "<tr>\n",
       "  <th>Df Residuals:</th>          <td>396991</td>      <th>  BIC:               </th>  <td>2.678e+06</td> \n",
       "</tr>\n",
       "<tr>\n",
       "  <th>Df Model:</th>              <td>    48</td>      <th>                     </th>      <td> </td>     \n",
       "</tr>\n",
       "<tr>\n",
       "  <th>Covariance Type:</th>      <td>nonrobust</td>    <th>                     </th>      <td> </td>     \n",
       "</tr>\n",
       "</table>\n",
       "<table class=\"simpletable\">\n",
       "<tr>\n",
       "    <td></td>       <th>coef</th>     <th>std err</th>      <th>t</th>      <th>P>|t|</th>  <th>[0.025</th>    <th>0.975]</th>  \n",
       "</tr>\n",
       "<tr>\n",
       "  <th>const</th> <td>    9.3211</td> <td>    0.103</td> <td>   90.811</td> <td> 0.000</td> <td>    9.120</td> <td>    9.522</td>\n",
       "</tr>\n",
       "<tr>\n",
       "  <th>x1</th>    <td>   -0.3316</td> <td>    0.025</td> <td>  -13.064</td> <td> 0.000</td> <td>   -0.381</td> <td>   -0.282</td>\n",
       "</tr>\n",
       "<tr>\n",
       "  <th>x2</th>    <td>   -0.1142</td> <td>    0.019</td> <td>   -5.996</td> <td> 0.000</td> <td>   -0.152</td> <td>   -0.077</td>\n",
       "</tr>\n",
       "<tr>\n",
       "  <th>x3</th>    <td>    0.1493</td> <td>    0.013</td> <td>   11.253</td> <td> 0.000</td> <td>    0.123</td> <td>    0.175</td>\n",
       "</tr>\n",
       "<tr>\n",
       "  <th>x4</th>    <td>   -0.1013</td> <td>    0.112</td> <td>   -0.908</td> <td> 0.364</td> <td>   -0.320</td> <td>    0.117</td>\n",
       "</tr>\n",
       "<tr>\n",
       "  <th>x5</th>    <td>   -0.0169</td> <td>    0.029</td> <td>   -0.579</td> <td> 0.562</td> <td>   -0.074</td> <td>    0.040</td>\n",
       "</tr>\n",
       "<tr>\n",
       "  <th>x6</th>    <td>   -0.1143</td> <td>    0.095</td> <td>   -1.201</td> <td> 0.230</td> <td>   -0.301</td> <td>    0.072</td>\n",
       "</tr>\n",
       "<tr>\n",
       "  <th>x7</th>    <td>   -0.1896</td> <td>    0.039</td> <td>   -4.881</td> <td> 0.000</td> <td>   -0.266</td> <td>   -0.113</td>\n",
       "</tr>\n",
       "<tr>\n",
       "  <th>x8</th>    <td>   -0.4239</td> <td>    0.051</td> <td>   -8.294</td> <td> 0.000</td> <td>   -0.524</td> <td>   -0.324</td>\n",
       "</tr>\n",
       "<tr>\n",
       "  <th>x9</th>    <td>   -0.3639</td> <td>    0.069</td> <td>   -5.283</td> <td> 0.000</td> <td>   -0.499</td> <td>   -0.229</td>\n",
       "</tr>\n",
       "<tr>\n",
       "  <th>x10</th>   <td>   -0.5278</td> <td>    0.039</td> <td>  -13.659</td> <td> 0.000</td> <td>   -0.604</td> <td>   -0.452</td>\n",
       "</tr>\n",
       "<tr>\n",
       "  <th>x11</th>   <td>   -0.7996</td> <td>    0.051</td> <td>  -15.782</td> <td> 0.000</td> <td>   -0.899</td> <td>   -0.700</td>\n",
       "</tr>\n",
       "<tr>\n",
       "  <th>x12</th>   <td>   -0.9542</td> <td>    0.065</td> <td>  -14.612</td> <td> 0.000</td> <td>   -1.082</td> <td>   -0.826</td>\n",
       "</tr>\n",
       "<tr>\n",
       "  <th>x13</th>   <td>    0.0873</td> <td>    0.047</td> <td>    1.862</td> <td> 0.063</td> <td>   -0.005</td> <td>    0.179</td>\n",
       "</tr>\n",
       "<tr>\n",
       "  <th>x14</th>   <td>    0.1194</td> <td>    0.085</td> <td>    1.411</td> <td> 0.158</td> <td>   -0.046</td> <td>    0.285</td>\n",
       "</tr>\n",
       "<tr>\n",
       "  <th>x15</th>   <td>   -0.2289</td> <td>    0.069</td> <td>   -3.300</td> <td> 0.001</td> <td>   -0.365</td> <td>   -0.093</td>\n",
       "</tr>\n",
       "<tr>\n",
       "  <th>x16</th>   <td>   -0.6772</td> <td>    0.087</td> <td>   -7.813</td> <td> 0.000</td> <td>   -0.847</td> <td>   -0.507</td>\n",
       "</tr>\n",
       "<tr>\n",
       "  <th>x17</th>   <td>   -1.0296</td> <td>    0.076</td> <td>  -13.594</td> <td> 0.000</td> <td>   -1.178</td> <td>   -0.881</td>\n",
       "</tr>\n",
       "<tr>\n",
       "  <th>x18</th>   <td>   -0.4389</td> <td>    0.065</td> <td>   -6.787</td> <td> 0.000</td> <td>   -0.566</td> <td>   -0.312</td>\n",
       "</tr>\n",
       "<tr>\n",
       "  <th>x19</th>   <td>   -0.1184</td> <td>    0.065</td> <td>   -1.807</td> <td> 0.071</td> <td>   -0.247</td> <td>    0.010</td>\n",
       "</tr>\n",
       "<tr>\n",
       "  <th>x20</th>   <td>   -0.1306</td> <td>    0.065</td> <td>   -2.004</td> <td> 0.045</td> <td>   -0.258</td> <td>   -0.003</td>\n",
       "</tr>\n",
       "<tr>\n",
       "  <th>x21</th>   <td>   -0.2718</td> <td>    0.063</td> <td>   -4.329</td> <td> 0.000</td> <td>   -0.395</td> <td>   -0.149</td>\n",
       "</tr>\n",
       "<tr>\n",
       "  <th>x22</th>   <td>   -0.1419</td> <td>    0.054</td> <td>   -2.604</td> <td> 0.009</td> <td>   -0.249</td> <td>   -0.035</td>\n",
       "</tr>\n",
       "<tr>\n",
       "  <th>x23</th>   <td>    0.0494</td> <td>    0.052</td> <td>    0.949</td> <td> 0.343</td> <td>   -0.053</td> <td>    0.151</td>\n",
       "</tr>\n",
       "<tr>\n",
       "  <th>x24</th>   <td>    0.0764</td> <td>    0.052</td> <td>    1.458</td> <td> 0.145</td> <td>   -0.026</td> <td>    0.179</td>\n",
       "</tr>\n",
       "<tr>\n",
       "  <th>x25</th>   <td>   -0.0259</td> <td>    0.054</td> <td>   -0.482</td> <td> 0.630</td> <td>   -0.131</td> <td>    0.079</td>\n",
       "</tr>\n",
       "<tr>\n",
       "  <th>x26</th>   <td>    2.9238</td> <td>    0.098</td> <td>   29.914</td> <td> 0.000</td> <td>    2.732</td> <td>    3.115</td>\n",
       "</tr>\n",
       "<tr>\n",
       "  <th>x27</th>   <td>    1.6802</td> <td>    0.090</td> <td>   18.700</td> <td> 0.000</td> <td>    1.504</td> <td>    1.856</td>\n",
       "</tr>\n",
       "<tr>\n",
       "  <th>x28</th>   <td>    2.2937</td> <td>    0.121</td> <td>   18.893</td> <td> 0.000</td> <td>    2.056</td> <td>    2.532</td>\n",
       "</tr>\n",
       "<tr>\n",
       "  <th>x29</th>   <td>    1.9411</td> <td>    0.101</td> <td>   19.214</td> <td> 0.000</td> <td>    1.743</td> <td>    2.139</td>\n",
       "</tr>\n",
       "<tr>\n",
       "  <th>x30</th>   <td>   -0.2382</td> <td>    1.168</td> <td>   -0.204</td> <td> 0.838</td> <td>   -2.528</td> <td>    2.051</td>\n",
       "</tr>\n",
       "<tr>\n",
       "  <th>x31</th>   <td>    3.5435</td> <td>    0.087</td> <td>   40.779</td> <td> 0.000</td> <td>    3.373</td> <td>    3.714</td>\n",
       "</tr>\n",
       "<tr>\n",
       "  <th>x32</th>   <td>    4.4143</td> <td>    0.566</td> <td>    7.802</td> <td> 0.000</td> <td>    3.305</td> <td>    5.523</td>\n",
       "</tr>\n",
       "<tr>\n",
       "  <th>x33</th>   <td>    2.0757</td> <td>    0.358</td> <td>    5.799</td> <td> 0.000</td> <td>    1.374</td> <td>    2.777</td>\n",
       "</tr>\n",
       "<tr>\n",
       "  <th>x34</th>   <td>    2.1751</td> <td>    0.079</td> <td>   27.659</td> <td> 0.000</td> <td>    2.021</td> <td>    2.329</td>\n",
       "</tr>\n",
       "<tr>\n",
       "  <th>x35</th>   <td>    4.3817</td> <td>    0.079</td> <td>   55.704</td> <td> 0.000</td> <td>    4.228</td> <td>    4.536</td>\n",
       "</tr>\n",
       "<tr>\n",
       "  <th>x36</th>   <td>    3.6411</td> <td>    0.089</td> <td>   40.893</td> <td> 0.000</td> <td>    3.467</td> <td>    3.816</td>\n",
       "</tr>\n",
       "<tr>\n",
       "  <th>x37</th>   <td>    1.0277</td> <td>    0.640</td> <td>    1.607</td> <td> 0.108</td> <td>   -0.226</td> <td>    2.281</td>\n",
       "</tr>\n",
       "<tr>\n",
       "  <th>x38</th>   <td>    2.8080</td> <td>    0.260</td> <td>   10.815</td> <td> 0.000</td> <td>    2.299</td> <td>    3.317</td>\n",
       "</tr>\n",
       "<tr>\n",
       "  <th>x39</th>   <td>    0.0828</td> <td>    0.037</td> <td>    2.251</td> <td> 0.024</td> <td>    0.011</td> <td>    0.155</td>\n",
       "</tr>\n",
       "<tr>\n",
       "  <th>x40</th>   <td>    0.1778</td> <td>    0.037</td> <td>    4.840</td> <td> 0.000</td> <td>    0.106</td> <td>    0.250</td>\n",
       "</tr>\n",
       "<tr>\n",
       "  <th>x41</th>   <td>    0.0287</td> <td>    0.039</td> <td>    0.732</td> <td> 0.464</td> <td>   -0.048</td> <td>    0.105</td>\n",
       "</tr>\n",
       "<tr>\n",
       "  <th>x42</th>   <td>   -0.1496</td> <td>    0.042</td> <td>   -3.553</td> <td> 0.000</td> <td>   -0.232</td> <td>   -0.067</td>\n",
       "</tr>\n",
       "<tr>\n",
       "  <th>x43</th>   <td>    2.0922</td> <td>    0.232</td> <td>    9.029</td> <td> 0.000</td> <td>    1.638</td> <td>    2.546</td>\n",
       "</tr>\n",
       "<tr>\n",
       "  <th>x44</th>   <td>   -1.9079</td> <td>    1.876</td> <td>   -1.017</td> <td> 0.309</td> <td>   -5.584</td> <td>    1.768</td>\n",
       "</tr>\n",
       "<tr>\n",
       "  <th>x45</th>   <td>   -0.1536</td> <td>    0.503</td> <td>   -0.306</td> <td> 0.760</td> <td>   -1.139</td> <td>    0.831</td>\n",
       "</tr>\n",
       "<tr>\n",
       "  <th>x46</th>   <td>    3.0006</td> <td>    0.890</td> <td>    3.373</td> <td> 0.001</td> <td>    1.257</td> <td>    4.744</td>\n",
       "</tr>\n",
       "<tr>\n",
       "  <th>x47</th>   <td>    0.1621</td> <td>    0.028</td> <td>    5.701</td> <td> 0.000</td> <td>    0.106</td> <td>    0.218</td>\n",
       "</tr>\n",
       "<tr>\n",
       "  <th>x48</th>   <td>   -0.1922</td> <td>    0.028</td> <td>   -6.761</td> <td> 0.000</td> <td>   -0.248</td> <td>   -0.136</td>\n",
       "</tr>\n",
       "</table>\n",
       "<table class=\"simpletable\">\n",
       "<tr>\n",
       "  <th>Omnibus:</th>       <td>24794.823</td> <th>  Durbin-Watson:     </th> <td>   2.002</td> \n",
       "</tr>\n",
       "<tr>\n",
       "  <th>Prob(Omnibus):</th>  <td> 0.000</td>   <th>  Jarque-Bera (JB):  </th> <td>44112.122</td>\n",
       "</tr>\n",
       "<tr>\n",
       "  <th>Skew:</th>           <td>-0.477</td>   <th>  Prob(JB):          </th> <td>    0.00</td> \n",
       "</tr>\n",
       "<tr>\n",
       "  <th>Kurtosis:</th>       <td> 4.325</td>   <th>  Cond. No.          </th> <td>    297.</td> \n",
       "</tr>\n",
       "</table><br/><br/>Notes:<br/>[1] Standard Errors assume that the covariance matrix of the errors is correctly specified."
      ],
      "text/plain": [
       "<class 'statsmodels.iolib.summary.Summary'>\n",
       "\"\"\"\n",
       "                            OLS Regression Results                            \n",
       "==============================================================================\n",
       "Dep. Variable:         tip_percentage   R-squared:                       0.040\n",
       "Model:                            OLS   Adj. R-squared:                  0.040\n",
       "Method:                 Least Squares   F-statistic:                     347.7\n",
       "Date:                Wed, 09 Mar 2022   Prob (F-statistic):               0.00\n",
       "Time:                        02:19:11   Log-Likelihood:            -1.3385e+06\n",
       "No. Observations:              397040   AIC:                         2.677e+06\n",
       "Df Residuals:                  396991   BIC:                         2.678e+06\n",
       "Df Model:                          48                                         \n",
       "Covariance Type:            nonrobust                                         \n",
       "==============================================================================\n",
       "                 coef    std err          t      P>|t|      [0.025      0.975]\n",
       "------------------------------------------------------------------------------\n",
       "const          9.3211      0.103     90.811      0.000       9.120       9.522\n",
       "x1            -0.3316      0.025    -13.064      0.000      -0.381      -0.282\n",
       "x2            -0.1142      0.019     -5.996      0.000      -0.152      -0.077\n",
       "x3             0.1493      0.013     11.253      0.000       0.123       0.175\n",
       "x4            -0.1013      0.112     -0.908      0.364      -0.320       0.117\n",
       "x5            -0.0169      0.029     -0.579      0.562      -0.074       0.040\n",
       "x6            -0.1143      0.095     -1.201      0.230      -0.301       0.072\n",
       "x7            -0.1896      0.039     -4.881      0.000      -0.266      -0.113\n",
       "x8            -0.4239      0.051     -8.294      0.000      -0.524      -0.324\n",
       "x9            -0.3639      0.069     -5.283      0.000      -0.499      -0.229\n",
       "x10           -0.5278      0.039    -13.659      0.000      -0.604      -0.452\n",
       "x11           -0.7996      0.051    -15.782      0.000      -0.899      -0.700\n",
       "x12           -0.9542      0.065    -14.612      0.000      -1.082      -0.826\n",
       "x13            0.0873      0.047      1.862      0.063      -0.005       0.179\n",
       "x14            0.1194      0.085      1.411      0.158      -0.046       0.285\n",
       "x15           -0.2289      0.069     -3.300      0.001      -0.365      -0.093\n",
       "x16           -0.6772      0.087     -7.813      0.000      -0.847      -0.507\n",
       "x17           -1.0296      0.076    -13.594      0.000      -1.178      -0.881\n",
       "x18           -0.4389      0.065     -6.787      0.000      -0.566      -0.312\n",
       "x19           -0.1184      0.065     -1.807      0.071      -0.247       0.010\n",
       "x20           -0.1306      0.065     -2.004      0.045      -0.258      -0.003\n",
       "x21           -0.2718      0.063     -4.329      0.000      -0.395      -0.149\n",
       "x22           -0.1419      0.054     -2.604      0.009      -0.249      -0.035\n",
       "x23            0.0494      0.052      0.949      0.343      -0.053       0.151\n",
       "x24            0.0764      0.052      1.458      0.145      -0.026       0.179\n",
       "x25           -0.0259      0.054     -0.482      0.630      -0.131       0.079\n",
       "x26            2.9238      0.098     29.914      0.000       2.732       3.115\n",
       "x27            1.6802      0.090     18.700      0.000       1.504       1.856\n",
       "x28            2.2937      0.121     18.893      0.000       2.056       2.532\n",
       "x29            1.9411      0.101     19.214      0.000       1.743       2.139\n",
       "x30           -0.2382      1.168     -0.204      0.838      -2.528       2.051\n",
       "x31            3.5435      0.087     40.779      0.000       3.373       3.714\n",
       "x32            4.4143      0.566      7.802      0.000       3.305       5.523\n",
       "x33            2.0757      0.358      5.799      0.000       1.374       2.777\n",
       "x34            2.1751      0.079     27.659      0.000       2.021       2.329\n",
       "x35            4.3817      0.079     55.704      0.000       4.228       4.536\n",
       "x36            3.6411      0.089     40.893      0.000       3.467       3.816\n",
       "x37            1.0277      0.640      1.607      0.108      -0.226       2.281\n",
       "x38            2.8080      0.260     10.815      0.000       2.299       3.317\n",
       "x39            0.0828      0.037      2.251      0.024       0.011       0.155\n",
       "x40            0.1778      0.037      4.840      0.000       0.106       0.250\n",
       "x41            0.0287      0.039      0.732      0.464      -0.048       0.105\n",
       "x42           -0.1496      0.042     -3.553      0.000      -0.232      -0.067\n",
       "x43            2.0922      0.232      9.029      0.000       1.638       2.546\n",
       "x44           -1.9079      1.876     -1.017      0.309      -5.584       1.768\n",
       "x45           -0.1536      0.503     -0.306      0.760      -1.139       0.831\n",
       "x46            3.0006      0.890      3.373      0.001       1.257       4.744\n",
       "x47            0.1621      0.028      5.701      0.000       0.106       0.218\n",
       "x48           -0.1922      0.028     -6.761      0.000      -0.248      -0.136\n",
       "==============================================================================\n",
       "Omnibus:                    24794.823   Durbin-Watson:                   2.002\n",
       "Prob(Omnibus):                  0.000   Jarque-Bera (JB):            44112.122\n",
       "Skew:                          -0.477   Prob(JB):                         0.00\n",
       "Kurtosis:                       4.325   Cond. No.                         297.\n",
       "==============================================================================\n",
       "\n",
       "Notes:\n",
       "[1] Standard Errors assume that the covariance matrix of the errors is correctly specified.\n",
       "\"\"\""
      ]
     },
     "execution_count": 58,
     "metadata": {},
     "output_type": "execute_result"
    }
   ],
   "source": [
    "# Let's first build an Ordinary Least Squares Model using Statsmodel\n",
    "X = dfmap.fit_transform(final_df)\n",
    "y = final_df['tip_percentage']\n",
    "X_train, X_test, y_train, y_test = train_test_split(X, y, test_size=0.3, random_state=43)\n",
    "model = sm.OLS(y_train, sm.add_constant(X_train)).fit()\n",
    "predictions = model.predict(sm.add_constant(X_test))\n",
    "\n",
    "#Summary\n",
    "print('RMSE of baseline model with the mean tip percentage is',np.sqrt(mse(y_test.mean(),y_test)))\n",
    "print('RMSE of the full model is',np.sqrt(mse(predictions, y_test)))\n",
    "print('R-square of the full model is',explained_variance_score(y_test, predictions))\n",
    "model.summary()"
   ]
  },
  {
   "cell_type": "markdown",
   "id": "bec2f857",
   "metadata": {},
   "source": [
    "#### We first used linear regression with the ordinary least square method, and the summary is shown above. We made a comparison between the full model with all features and a baseline model with intercept only, just regarding mean as predicted value. As we can see from R2 = 0.04, the full model is not very explantory for the extra variance in tip percentage compared to the baseline model. The predicted tip percentage will be ±7.02% from its actual value given RMSE = 7.02%.\n",
    "#### From the figure above, we can tell that following types of trips yield higher tip percentages: shorter trip time and distance, higher toll fee, faster speed, more passenger counts, lower fare amount and extra charge,  pickup time after 6:00 PM, dropoff location at airports, Manhattan downtown, and Staten Island, and weekend trips."
   ]
  },
  {
   "cell_type": "markdown",
   "id": "acd73119",
   "metadata": {},
   "source": [
    "#### We can then conduct sensitivity analysis by excluding trips with tip percentage that are over 50% since it's far from the normal range."
   ]
  },
  {
   "cell_type": "code",
   "execution_count": 59,
   "id": "e955d95c",
   "metadata": {},
   "outputs": [
    {
     "name": "stdout",
     "output_type": "stream",
     "text": [
      "There are 386 trips with tip percentage over 50% in total\n",
      "RMSE of baseline model with the mean tip percentage is 7.117104385508001\n",
      "RMSE of the full model is 6.972186694619519\n",
      "R-square of the full model is 0.040309391164603414\n"
     ]
    }
   ],
   "source": [
    "fd_s = final_df.loc[final_df['tip_percentage']<=50]\n",
    "\n",
    "X_s= dfmap.fit_transform(fd_s)\n",
    "y_s= fd_s['tip_percentage']\n",
    "X_train_s, X_test_s, y_train_s, y_test_s= train_test_split(X_s, y_s, test_size=0.3, random_state=43)\n",
    "\n",
    "model_s = sm.OLS(y_train_s, sm.add_constant(X_train_s)).fit()\n",
    "predictions_s = model_s.predict(sm.add_constant(X_test_s)) \n",
    "\n",
    "# Print out the statistics\n",
    "print('There are', len(final_df)-len(fd_s),'trips with tip percentage over 50% in total')\n",
    "print('RMSE of baseline model with the mean tip percentage is',np.sqrt(mse(y_test_s.mean(), y_test_s)))\n",
    "print('RMSE of the full model is',np.sqrt(mse(predictions_s, y_test_s)))\n",
    "print('R-square of the full model is',explained_variance_score(y_test_s, predictions_s))"
   ]
  },
  {
   "cell_type": "markdown",
   "id": "2095daef",
   "metadata": {},
   "source": [
    "#### The model fit has been improved by removing the extreming values as we can tell by the decrease in RMSE and rise in R-squared."
   ]
  },
  {
   "cell_type": "markdown",
   "id": "fdf985ca",
   "metadata": {},
   "source": [
    "## Regularization and Gradient Boosting"
   ]
  },
  {
   "cell_type": "markdown",
   "id": "60aab629",
   "metadata": {},
   "source": [
    "### We can advance into fitting Ridge, Gradient Boosting model and XGBoost model to predict tip percentage. I've tuned hyperparameters by grid search and 3-fold cross-validation using the training dataset. Then I evaluated the model fit in the testing dataset."
   ]
  },
  {
   "cell_type": "code",
   "execution_count": 61,
   "id": "0445d69b",
   "metadata": {
    "scrolled": true
   },
   "outputs": [
    {
     "name": "stdout",
     "output_type": "stream",
     "text": [
      "Model begins\n",
      "Linear regression model training\n",
      "Gradientboost regressor model training\n",
      "XGboost regressor model training\n",
      "Model ends\n",
      "CPU times: user 1h 8min 23s, sys: 9min 27s, total: 1h 17min 50s\n",
      "Wall time: 14min 33s\n"
     ]
    }
   ],
   "source": [
    "%%time\n",
    "results = fit_model(final_df, dfmap)"
   ]
  },
  {
   "cell_type": "code",
   "execution_count": 62,
   "id": "6bad6a10",
   "metadata": {},
   "outputs": [
    {
     "data": {
      "text/html": [
       "<div>\n",
       "<style scoped>\n",
       "    .dataframe tbody tr th:only-of-type {\n",
       "        vertical-align: middle;\n",
       "    }\n",
       "\n",
       "    .dataframe tbody tr th {\n",
       "        vertical-align: top;\n",
       "    }\n",
       "\n",
       "    .dataframe thead th {\n",
       "        text-align: right;\n",
       "    }\n",
       "</style>\n",
       "<table border=\"1\" class=\"dataframe\">\n",
       "  <thead>\n",
       "    <tr style=\"text-align: right;\">\n",
       "      <th></th>\n",
       "      <th>model_type</th>\n",
       "      <th>test_exp_var</th>\n",
       "      <th>test_MSE</th>\n",
       "      <th>test_RMSE</th>\n",
       "    </tr>\n",
       "  </thead>\n",
       "  <tbody>\n",
       "    <tr>\n",
       "      <th>0</th>\n",
       "      <td>ridge</td>\n",
       "      <td>0.041861</td>\n",
       "      <td>49.514938</td>\n",
       "      <td>7.036685</td>\n",
       "    </tr>\n",
       "    <tr>\n",
       "      <th>1</th>\n",
       "      <td>gbr</td>\n",
       "      <td>0.046270</td>\n",
       "      <td>49.287024</td>\n",
       "      <td>7.020472</td>\n",
       "    </tr>\n",
       "    <tr>\n",
       "      <th>2</th>\n",
       "      <td>xgb</td>\n",
       "      <td>0.044531</td>\n",
       "      <td>58.463012</td>\n",
       "      <td>7.646111</td>\n",
       "    </tr>\n",
       "  </tbody>\n",
       "</table>\n",
       "</div>"
      ],
      "text/plain": [
       "  model_type  test_exp_var   test_MSE  test_RMSE\n",
       "0      ridge      0.041861  49.514938   7.036685\n",
       "1        gbr      0.046270  49.287024   7.020472\n",
       "2        xgb      0.044531  58.463012   7.646111"
      ]
     },
     "execution_count": 62,
     "metadata": {},
     "output_type": "execute_result"
    }
   ],
   "source": [
    "#model performances\n",
    "results_table=results[['model_type','test_exp_var','test_MSE','test_RMSE']]\n",
    "results_table"
   ]
  },
  {
   "cell_type": "markdown",
   "id": "20b6e7f2",
   "metadata": {},
   "source": [
    "#### As we can tell from the table above, these advanced models have not improved the model fit. In this case, we would prefer linear regression because of its good interpretability and fast speed."
   ]
  },
  {
   "cell_type": "markdown",
   "id": "fce7acb9",
   "metadata": {},
   "source": [
    "## Summary"
   ]
  },
  {
   "cell_type": "markdown",
   "id": "f3f2d0f0",
   "metadata": {},
   "source": [
    "#### In conclusion, the model performance of multivariable linear regression is unsatisfactory due to R2 and RMSE. However, regularization or gradient boosting methods have not improved the model fit. As a result, we would recommend not using tip percentage as a prediction target in the future. Besides, from the beta coefficients of linear regression model, we know that taxi trips with shorter trip time and distance, higher toll fee, faster speed, more passenger counts, lower fare amount and extra charge, pickup time after 6:00 PM, dropoff location at airports, Manhattan downtown, and Staten Island, and weekend rides could yield better tips. \n",
    "#### I'm now going to improve the predictability of tips for NYC green taxis by conducting the following analysis."
   ]
  },
  {
   "cell_type": "markdown",
   "id": "2dcb0ac8",
   "metadata": {},
   "source": [
    "### What causes the poor performance of the model?"
   ]
  },
  {
   "cell_type": "code",
   "execution_count": 63,
   "id": "80bb4215",
   "metadata": {},
   "outputs": [
    {
     "data": {
      "image/png": "[encoded data removed]",
      "text/plain": [
       "<Figure size 576x216 with 2 Axes>"
      ]
     },
     "metadata": {
      "needs_background": "light"
     },
     "output_type": "display_data"
    }
   ],
   "source": [
    "rsd = y_test-predictions\n",
    "fig, ax = plt.subplots(1,2,figsize=(8,3))\n",
    "fig.subplots_adjust(wspace=.4)\n",
    "\n",
    "# check if the residual follows a normal distribution\n",
    "ax[0].hist(rsd, bins = 40);\n",
    "ax[0].set(xlabel='Residual', ylabel='Trip Count', title='Residual Distribution');\n",
    "\n",
    "# check if the residual distribution is dependent on y\n",
    "ax[1].scatter(predictions, rsd,alpha=.2);\n",
    "ax[1].set(xlabel='Predicted', ylabel='Residual', title='Predicted & residual');"
   ]
  },
  {
   "cell_type": "markdown",
   "id": "4fe54a24",
   "metadata": {},
   "source": [
    "#### We now know that residuals do not follow the normal distribution, and are independent from predicted values as well. This could somewhat explain the poor performacnes of our models.\n",
    "#### There are some extreme values disrupting the distribution, which could have resulted in the big prediction errors. For example, some 0% tips might have been paid in cash."
   ]
  },
  {
   "cell_type": "markdown",
   "id": "414ed89b",
   "metadata": {},
   "source": [
    "### Comparison between Preset & Custom Tip Percentage"
   ]
  },
  {
   "cell_type": "code",
   "execution_count": 64,
   "id": "23546158",
   "metadata": {},
   "outputs": [
    {
     "name": "stdout",
     "output_type": "stream",
     "text": [
      "Original Skewness: -0.549160\n",
      "Original Kurtosis: 1.163093\n",
      "Skewness after excluding preset tips: 1.589601\n",
      "Kurtosis after excluding preset tips: 6.592637\n"
     ]
    },
    {
     "data": {
      "image/png": "[encoded data removed]",
      "text/plain": [
       "<Figure size 864x216 with 3 Axes>"
      ]
     },
     "metadata": {
      "needs_background": "light"
     },
     "output_type": "display_data"
    }
   ],
   "source": [
    "fig, ax = plt.subplots(1,3, figsize=(12,3))\n",
    "fig.subplots_adjust(wspace=.4)\n",
    "\n",
    "ax[0].hist(final_df['tip_percentage'], bins=40)\n",
    "ax[0].set(xlabel='Tip percentage (%)', ylabel='Trip Count');\n",
    "ax[0].set_title('All Trips');\n",
    "\n",
    "ax[1].hist(final_df['tip_percentage'].loc[(final_df['tip_percentage']>0)], bins=40);\n",
    "ax[1].set(xlabel='Tip percentage (%)', ylabel='Trip Count');\n",
    "ax[1].set_title('Trips with tip > 0');\n",
    "\n",
    "custom = final_df['tip_percentage'].loc[~((df['tip_percentage']==0)|\\\n",
    "                                    ((df['tip_percentage']>16.6)&(df['tip_percentage']<16.7))|\\\n",
    "                                    ((df['tip_percentage']>19.9)&(df['tip_percentage']<20.1))|\\\n",
    "                                    ((df['tip_percentage']>23)&(df['tip_percentage']<23.1)))]\n",
    "ax[2].hist(custom, bins=40);\n",
    "ax[2].set(xlabel='Tip percentage (%)', ylabel='Trip Count');\n",
    "ax[2].set_title('Trips excluding preset tips');\n",
    "\n",
    "#fig.savefig('fig10.svg', format='svg',bbox_inches='tight')\n",
    "print(\"Original Skewness: %f\" % final_df['tip_percentage'].skew())\n",
    "print(\"Original Kurtosis: %f\" % final_df['tip_percentage'].kurt())\n",
    "\n",
    "print(\"Skewness after excluding preset tips: %f\" % custom.skew())\n",
    "print(\"Kurtosis after excluding preset tips: %f\" % custom.kurt())"
   ]
  },
  {
   "cell_type": "markdown",
   "id": "725188d5",
   "metadata": {},
   "source": [
    "#### The highly-skewed tip percentage distribution has negatively affect the normality of the residual distributions, contradicting to the important assumption of linear regression. Exluding the preset tip percentages makes the distribution of tip percentage closer to a normal distribution, with a more distinct shape (skewness=1.6, kurtosis=6.6) compared to the distribution of all tips (skewness= -0.5, kurtosis=1.1). Therefore, it might be best to divide the tip percentages into two parts, respectively custom tips and preset tips, and model and them separately. Through this process, we could begin with a classification model to predict if it's a preset- or custom-tip trip. Then we would categorize preset-tip trips into different preset-tip values, meanwhile for custom-tip trips,  we can build a prediction model to estimate the tip."
   ]
  },
  {
   "cell_type": "markdown",
   "id": "da4206c2",
   "metadata": {},
   "source": [
    "### Converting Tip Percentage to Tip Amount as the Response Variable"
   ]
  },
  {
   "cell_type": "code",
   "execution_count": 65,
   "id": "c3a9c903",
   "metadata": {},
   "outputs": [
    {
     "name": "stdout",
     "output_type": "stream",
     "text": [
      "RMSE of the baseline model with the mean tip percentage is 2.2006677464005473\n",
      "RMSE of the full model is 1.6129048098724519\n",
      "R-squared of the full model is 0.4628358372434068\n",
      "RSME of tip percent model is 7.086268846944302\n"
     ]
    }
   ],
   "source": [
    "X = final_df[['fare_amount', 'extra','tolls_amount', 'mta_tax','improvement_surcharge','trip_type',\n",
    "         'distance_range_Q2','distance_range_Q3', 'distance_range_Q4',\n",
    "         'time_range_Q2','time_range_Q3', 'time_range_Q4',\n",
    "         'passenger_range_3-5', 'passenger_range_5-9', \n",
    "         'pickuphour_range_2-3','pickuphour_range_4-5', \n",
    "         'pickuphour_range_6-7', 'pickuphour_range_8-9',\n",
    "         'pickuphour_range_10-11', 'pickuphour_range_12-13',\n",
    "         'pickuphour_range_14-15', 'pickuphour_range_16-17',\n",
    "         'pickuphour_range_18-19', 'pickuphour_range_20-21',\n",
    "         'pickuphour_range_22-23', \n",
    "         'pickup_boro_Brooklyn', 'pickup_boro_Man_green',\n",
    "         'pickup_boro_Man_yellow', 'pickup_boro_Queens','pickup_boro_Staten Island', \n",
    "         'dropoff_boro_Brooklyn', 'dropoff_boro_EWR', \n",
    "         'dropoff_boro_Man_green','dropoff_boro_Man_yellow','dropoff_boro_Queens', 'dropoff_boro_Staten Island',\n",
    "         'week_49','week_50', 'week_51', 'week_52',\n",
    "         'RatecodeID_2', 'RatecodeID_3','RatecodeID_4', 'RatecodeID_5',\n",
    "         'weekend_weekend', 'VendorID_2']]\n",
    "\n",
    "y_1 = final_df['tip_amount']\n",
    "X_train, X_test, y_train_amount, y_test_amount = train_test_split(X, y_1, test_size=0.3, random_state=43)\n",
    "model_1 = sm.OLS(y_train_amount, sm.add_constant(X_train)).fit()\n",
    "predictions_1 = model_1.predict(sm.add_constant(X_test))\n",
    "\n",
    "print('RMSE of the baseline model with the mean tip percentage is',np.sqrt(mse(y_test_amount.mean(), y_test_amount)))\n",
    "print('RMSE of the full model is',np.sqrt(mse(predictions_1, y_test_amount)))\n",
    "print('R-squared of the full model is',explained_variance_score(y_test_amount, predictions_1))\n",
    "predicted_total=predictions_1+X_test['fare_amount']+X_test['extra']+X_test['tolls_amount']+X_test['improvement_surcharge']+X_test['mta_tax']\n",
    "predicted_tip_percentage=100*predictions_1/predicted_total\n",
    "print('RSME of tip percent model is',np.sqrt(mse(predicted_tip_percentage, y_test)))"
   ]
  },
  {
   "cell_type": "markdown",
   "id": "8e700f72",
   "metadata": {},
   "source": [
    "### As we can see from above, the RMSE has been significantly decreased and the R-squared has been significantly increased by this method, which means we should set tip amount as our response variable in the future. Shown above is the ordiary least squared model, we are going to dive deeper into Regularization and Gradient Boosting models, with tip amount as response variable now."
   ]
  },
  {
   "cell_type": "code",
   "execution_count": 66,
   "id": "7cfd3e19",
   "metadata": {},
   "outputs": [
    {
     "name": "stdout",
     "output_type": "stream",
     "text": [
      "Model begins\n",
      "Linear regression model training\n",
      "Gradientboost regressor model training\n",
      "XGboost regressor model training\n",
      "Model ends\n",
      "CPU times: user 42min 35s, sys: 5min 3s, total: 47min 39s\n",
      "Wall time: 10min 45s\n"
     ]
    }
   ],
   "source": [
    "%%time\n",
    "results = fit_model(final_df, dfmap)"
   ]
  },
  {
   "cell_type": "code",
   "execution_count": 67,
   "id": "9bfe6c6b",
   "metadata": {},
   "outputs": [
    {
     "data": {
      "text/html": [
       "<div>\n",
       "<style scoped>\n",
       "    .dataframe tbody tr th:only-of-type {\n",
       "        vertical-align: middle;\n",
       "    }\n",
       "\n",
       "    .dataframe tbody tr th {\n",
       "        vertical-align: top;\n",
       "    }\n",
       "\n",
       "    .dataframe thead th {\n",
       "        text-align: right;\n",
       "    }\n",
       "</style>\n",
       "<table border=\"1\" class=\"dataframe\">\n",
       "  <thead>\n",
       "    <tr style=\"text-align: right;\">\n",
       "      <th></th>\n",
       "      <th>model_type</th>\n",
       "      <th>test_exp_var</th>\n",
       "      <th>test_MSE</th>\n",
       "      <th>test_RMSE</th>\n",
       "    </tr>\n",
       "  </thead>\n",
       "  <tbody>\n",
       "    <tr>\n",
       "      <th>0</th>\n",
       "      <td>ridge</td>\n",
       "      <td>0.041861</td>\n",
       "      <td>49.514938</td>\n",
       "      <td>7.036685</td>\n",
       "    </tr>\n",
       "    <tr>\n",
       "      <th>1</th>\n",
       "      <td>gbr</td>\n",
       "      <td>0.048918</td>\n",
       "      <td>49.150207</td>\n",
       "      <td>7.010721</td>\n",
       "    </tr>\n",
       "    <tr>\n",
       "      <th>2</th>\n",
       "      <td>xgb</td>\n",
       "      <td>0.049842</td>\n",
       "      <td>49.102139</td>\n",
       "      <td>7.007292</td>\n",
       "    </tr>\n",
       "  </tbody>\n",
       "</table>\n",
       "</div>"
      ],
      "text/plain": [
       "  model_type  test_exp_var   test_MSE  test_RMSE\n",
       "0      ridge      0.041861  49.514938   7.036685\n",
       "1        gbr      0.048918  49.150207   7.010721\n",
       "2        xgb      0.049842  49.102139   7.007292"
      ]
     },
     "execution_count": 67,
     "metadata": {},
     "output_type": "execute_result"
    }
   ],
   "source": [
    "#model performances\n",
    "results_table=results[['model_type','test_exp_var','test_MSE','test_RMSE']]\n",
    "results_table"
   ]
  },
  {
   "cell_type": "markdown",
   "id": "668bcd98",
   "metadata": {},
   "source": [
    "#### As we can tell from the table above, these advanced models have only slightly improved the model fit. In this case, we would prefer linear regression because of its good interpretability and fast speed."
   ]
  },
  {
   "cell_type": "markdown",
   "id": "335998d4",
   "metadata": {},
   "source": [
    "# Question 5. [Visualize the Data to Help Understand Trip Patterns]"
   ]
  },
  {
   "cell_type": "markdown",
   "id": "615cc124",
   "metadata": {},
   "source": [
    "### We've visualized some data previously which covered some of the trip patterns, now we are going to dive deeper with trip patterns."
   ]
  },
  {
   "cell_type": "markdown",
   "id": "41dd452e",
   "metadata": {},
   "source": [
    "## Univariate Analysis"
   ]
  },
  {
   "cell_type": "markdown",
   "id": "93b4e651",
   "metadata": {},
   "source": [
    "## Vendor ID"
   ]
  },
  {
   "cell_type": "code",
   "execution_count": 68,
   "id": "599e0e7d",
   "metadata": {},
   "outputs": [
    {
     "data": {
      "image/png": "[encoded data removed]",
      "text/plain": [
       "<Figure size 432x288 with 1 Axes>"
      ]
     },
     "metadata": {
      "needs_background": "light"
     },
     "output_type": "display_data"
    }
   ],
   "source": [
    "sns.countplot(x='VendorID', data = df)\n",
    "plt.ticklabel_format(style='plain', axis='y')\n",
    "plt.show()"
   ]
  },
  {
   "cell_type": "markdown",
   "id": "8973b5ca",
   "metadata": {},
   "source": [
    "### The number of trips taken by Vendor 2 is much larger than the number of trips taken by Vendor 1."
   ]
  },
  {
   "cell_type": "markdown",
   "id": "09ecf7e3",
   "metadata": {},
   "source": [
    "## Passenger Count"
   ]
  },
  {
   "cell_type": "code",
   "execution_count": 69,
   "id": "8231efaa",
   "metadata": {
    "scrolled": true
   },
   "outputs": [
    {
     "data": {
      "text/plain": [
       "1    1003622\n",
       "2      90473\n",
       "5      42367\n",
       "3      23511\n",
       "6      20175\n",
       "4       7770\n",
       "7          9\n",
       "8          9\n",
       "9          2\n",
       "Name: passenger_count, dtype: int64"
      ]
     },
     "execution_count": 69,
     "metadata": {},
     "output_type": "execute_result"
    }
   ],
   "source": [
    "df.passenger_count.value_counts()"
   ]
  },
  {
   "cell_type": "markdown",
   "id": "1119d2dc",
   "metadata": {},
   "source": [
    "### We should keep in mind that there are some invalid trip records with no passenger. To know about the data more clearly we could plot a bar chart of passenger count as shown below."
   ]
  },
  {
   "cell_type": "code",
   "execution_count": 70,
   "id": "0da85a2c",
   "metadata": {},
   "outputs": [
    {
     "data": {
      "image/png": "[encoded data removed]",
      "text/plain": [
       "<Figure size 432x288 with 1 Axes>"
      ]
     },
     "metadata": {
      "needs_background": "light"
     },
     "output_type": "display_data"
    }
   ],
   "source": [
    "sns.countplot(x='passenger_count',data=df)\n",
    "plt.ticklabel_format(style='plain', axis = 'y')\n",
    "plt.show()"
   ]
  },
  {
   "cell_type": "markdown",
   "id": "5c7b2cd3",
   "metadata": {},
   "source": [
    "### When passenger count = 1 we have the highest amount of trips, and when passenger count is around 7 to 9 we have the lowest amount of trips."
   ]
  },
  {
   "cell_type": "markdown",
   "id": "e5d3efd6",
   "metadata": {},
   "source": [
    "### Why not remove the rows with 7-9 passenger count that are not important enough due to few trip counts, to obtain a fair distribution?"
   ]
  },
  {
   "cell_type": "code",
   "execution_count": 71,
   "id": "cbe84a1a",
   "metadata": {},
   "outputs": [],
   "source": [
    "df = df[df['passenger_count']<=6]"
   ]
  },
  {
   "cell_type": "code",
   "execution_count": 72,
   "id": "a1fb8bfb",
   "metadata": {},
   "outputs": [
    {
     "data": {
      "text/plain": [
       "1    1003622\n",
       "2      90473\n",
       "5      42367\n",
       "3      23511\n",
       "6      20175\n",
       "4       7770\n",
       "Name: passenger_count, dtype: int64"
      ]
     },
     "execution_count": 72,
     "metadata": {},
     "output_type": "execute_result"
    }
   ],
   "source": [
    "df.passenger_count.value_counts()"
   ]
  },
  {
   "cell_type": "markdown",
   "id": "f3f7876a",
   "metadata": {},
   "source": [
    "### Now we have a fair distribution."
   ]
  },
  {
   "cell_type": "markdown",
   "id": "c0ae1418",
   "metadata": {},
   "source": [
    "## Store and Forward Flag"
   ]
  },
  {
   "cell_type": "code",
   "execution_count": 73,
   "id": "b0c38339",
   "metadata": {
    "scrolled": true
   },
   "outputs": [
    {
     "data": {
      "text/plain": [
       "N    0.998318\n",
       "Y    0.001682\n",
       "Name: store_and_fwd_flag, dtype: float64"
      ]
     },
     "execution_count": 73,
     "metadata": {},
     "output_type": "execute_result"
    }
   ],
   "source": [
    "df['store_and_fwd_flag'].value_counts(normalize = True)"
   ]
  },
  {
   "cell_type": "markdown",
   "id": "6b6f37d0",
   "metadata": {},
   "source": [
    "### Only less than 1% of trips were stored before forwarding."
   ]
  },
  {
   "cell_type": "markdown",
   "id": "4543f4a0",
   "metadata": {},
   "source": [
    "## Trips per Day"
   ]
  },
  {
   "cell_type": "code",
   "execution_count": 74,
   "id": "c9902ce4",
   "metadata": {},
   "outputs": [
    {
     "data": {
      "image/png": "[encoded data removed]",
      "text/plain": [
       "<Figure size 1440x360 with 2 Axes>"
      ]
     },
     "metadata": {
      "needs_background": "light"
     },
     "output_type": "display_data"
    }
   ],
   "source": [
    "figure, (ax1, ax2) = plt.subplots(ncols=2, figsize = (20,5))\n",
    "ax1.set_title('Pickup Days')\n",
    "ax = sns.countplot(x= \"pickup_day\",data=df,ax=ax1)\n",
    "ax2.set_title('Dropoff Days')\n",
    "ax=sns.countplot(x=\"dropoff_day\",data=df,ax=ax2)"
   ]
  },
  {
   "cell_type": "markdown",
   "id": "fd7f4c8d",
   "metadata": {},
   "source": [
    "### We could see that Saturdays and Fridays are the busiest days in a week, which is probably because it's weekend."
   ]
  },
  {
   "cell_type": "markdown",
   "id": "ed12b936",
   "metadata": {},
   "source": [
    "## Trips per Time of Day"
   ]
  },
  {
   "cell_type": "code",
   "execution_count": 75,
   "id": "fd949091",
   "metadata": {},
   "outputs": [
    {
     "data": {
      "image/png": "[encoded data removed]",
      "text/plain": [
       "<Figure size 1440x360 with 2 Axes>"
      ]
     },
     "metadata": {
      "needs_background": "light"
     },
     "output_type": "display_data"
    }
   ],
   "source": [
    "figure,(ax5,ax6)=plt.subplots(ncols=2,figsize=(20,5))\n",
    "ax5.set_title('Pickup Time of Day')\n",
    "ax=sns.countplot(x=\"pickup_timeofday\",data=df,ax=ax5)\n",
    "ax6.set_title('Dropoff Time of Day')\n",
    "ax=sns.countplot(x=\"dropoff_timeofday\",data=df,ax=ax6)"
   ]
  },
  {
   "cell_type": "markdown",
   "id": "43ebbe2b",
   "metadata": {},
   "source": [
    "### We can see that midnights are the busiest."
   ]
  },
  {
   "cell_type": "markdown",
   "id": "5f5e8527",
   "metadata": {},
   "source": [
    "## Location"
   ]
  },
  {
   "cell_type": "code",
   "execution_count": 76,
   "id": "8699de52",
   "metadata": {
    "scrolled": true
   },
   "outputs": [
    {
     "data": {
      "text/plain": [
       "408439    265\n",
       "552692    265\n",
       "383112    265\n",
       "842524    265\n",
       "647337    265\n",
       "         ... \n",
       "291832      3\n",
       "473563      3\n",
       "891706      3\n",
       "738128      1\n",
       "772063      1\n",
       "Name: PULocationID, Length: 1187918, dtype: int64"
      ]
     },
     "execution_count": 76,
     "metadata": {},
     "output_type": "execute_result"
    }
   ],
   "source": [
    "df['PULocationID'].sort_values(ascending = False)"
   ]
  },
  {
   "cell_type": "markdown",
   "id": "42d1aceb",
   "metadata": {},
   "source": [
    "### This result corresponds to the definition of the dictionary, which says the Location ID ranges from 1 to 265."
   ]
  },
  {
   "cell_type": "code",
   "execution_count": 77,
   "id": "0734e768",
   "metadata": {
    "scrolled": true
   },
   "outputs": [
    {
     "data": {
      "text/plain": [
       "74     69892\n",
       "41     67853\n",
       "75     61016\n",
       "7      60926\n",
       "82     56630\n",
       "       ...  \n",
       "84         1\n",
       "233        1\n",
       "30         1\n",
       "234        1\n",
       "164        1\n",
       "Name: PULocationID, Length: 236, dtype: int64"
      ]
     },
     "execution_count": 77,
     "metadata": {},
     "output_type": "execute_result"
    }
   ],
   "source": [
    "df.PULocationID.value_counts()"
   ]
  },
  {
   "cell_type": "markdown",
   "id": "05625560",
   "metadata": {},
   "source": [
    "### Most Pickups are in LocationID with 74, and there are some LocationIDs only had one pickup in December 2016."
   ]
  },
  {
   "cell_type": "code",
   "execution_count": 78,
   "id": "1052ab62",
   "metadata": {},
   "outputs": [
    {
     "data": {
      "text/plain": [
       "866120     265\n",
       "845464     265\n",
       "51343      265\n",
       "622090     265\n",
       "1139114    265\n",
       "          ... \n",
       "263699       1\n",
       "878514       1\n",
       "338568       1\n",
       "932882       1\n",
       "764300       1\n",
       "Name: DOLocationID, Length: 1187918, dtype: int64"
      ]
     },
     "execution_count": 78,
     "metadata": {},
     "output_type": "execute_result"
    }
   ],
   "source": [
    "df['DOLocationID'].sort_values(ascending = False)"
   ]
  },
  {
   "cell_type": "markdown",
   "id": "1d9f8d02",
   "metadata": {},
   "source": [
    "### This result corresponds to the definition of the dictionary, which says the Location ID ranges from 1 to 265."
   ]
  },
  {
   "cell_type": "code",
   "execution_count": 79,
   "id": "e7321ecf",
   "metadata": {
    "scrolled": true
   },
   "outputs": [
    {
     "data": {
      "text/plain": [
       "42     39603\n",
       "74     39415\n",
       "7      37230\n",
       "129    36117\n",
       "41     35892\n",
       "       ...  \n",
       "176        5\n",
       "204        4\n",
       "44         3\n",
       "110        1\n",
       "99         1\n",
       "Name: DOLocationID, Length: 260, dtype: int64"
      ]
     },
     "execution_count": 79,
     "metadata": {},
     "output_type": "execute_result"
    }
   ],
   "source": [
    "df.DOLocationID.value_counts()"
   ]
  },
  {
   "cell_type": "markdown",
   "id": "623bbe8e",
   "metadata": {},
   "source": [
    "### Most Dropoffs are in LocationID with 42, and there are some LocationIDs only had one pickup in December 2016."
   ]
  },
  {
   "cell_type": "markdown",
   "id": "54cbb5c3",
   "metadata": {},
   "source": [
    "# Bivariate Analysis"
   ]
  },
  {
   "cell_type": "markdown",
   "id": "7ad42af1",
   "metadata": {},
   "source": [
    "## We can now analyze further with the data in Bivariate Analysis. It involves finding relationships, patterns, and correlations between two variables. We can utilize it to find what kind of trip yields better tips."
   ]
  },
  {
   "cell_type": "markdown",
   "id": "9991e5ed",
   "metadata": {},
   "source": [
    "## Trip distance per vendor"
   ]
  },
  {
   "cell_type": "code",
   "execution_count": 80,
   "id": "81258cae",
   "metadata": {
    "scrolled": true
   },
   "outputs": [
    {
     "data": {
      "text/plain": [
       "<AxesSubplot:xlabel='VendorID', ylabel='trip_distance'>"
      ]
     },
     "execution_count": 80,
     "metadata": {},
     "output_type": "execute_result"
    },
    {
     "data": {
      "image/png": "[encoded data removed]",
      "text/plain": [
       "<Figure size 432x288 with 1 Axes>"
      ]
     },
     "metadata": {
      "needs_background": "light"
     },
     "output_type": "display_data"
    }
   ],
   "source": [
    "sns.barplot(y='trip_distance',x='VendorID',data=df,estimator=np.mean)"
   ]
  },
  {
   "cell_type": "markdown",
   "id": "0a4c56f8",
   "metadata": {},
   "source": [
    "### There is not much difference in trip distance between Vendor 1 and 2."
   ]
  },
  {
   "cell_type": "markdown",
   "id": "28f43e7a",
   "metadata": {},
   "source": [
    "## Trip distance per passenger count"
   ]
  },
  {
   "cell_type": "code",
   "execution_count": 81,
   "id": "07a2f39e",
   "metadata": {
    "scrolled": false
   },
   "outputs": [
    {
     "data": {
      "text/plain": [
       "<seaborn.axisgrid.FacetGrid at 0x7ff362914280>"
      ]
     },
     "execution_count": 81,
     "metadata": {},
     "output_type": "execute_result"
    },
    {
     "data": {
      "image/png": "[encoded data removed]",
      "text/plain": [
       "<Figure size 360x360 with 1 Axes>"
      ]
     },
     "metadata": {
      "needs_background": "light"
     },
     "output_type": "display_data"
    }
   ],
   "source": [
    "sns.catplot(y='trip_distance', x='passenger_count', data = df, kind = \"strip\")"
   ]
  },
  {
   "cell_type": "markdown",
   "id": "3daee876",
   "metadata": {},
   "source": [
    "### Longer trips are more likely to happen when passenger count is 1. The trip distance performances for passenger count of 2, 3, 4, 5 and 6 are pretty similar, and are all less likely to be as long as when passenger count is 1, except that the longest trip among all happened in a 2-passenger ride."
   ]
  },
  {
   "cell_type": "markdown",
   "id": "ef217a90",
   "metadata": {},
   "source": [
    "## Trip distance per store and forward flag"
   ]
  },
  {
   "cell_type": "code",
   "execution_count": 82,
   "id": "e2ac1029",
   "metadata": {},
   "outputs": [
    {
     "data": {
      "text/plain": [
       "<seaborn.axisgrid.FacetGrid at 0x7ff3519fd280>"
      ]
     },
     "execution_count": 82,
     "metadata": {},
     "output_type": "execute_result"
    },
    {
     "data": {
      "image/png": "[encoded data removed]",
      "text/plain": [
       "<Figure size 360x360 with 1 Axes>"
      ]
     },
     "metadata": {
      "needs_background": "light"
     },
     "output_type": "display_data"
    }
   ],
   "source": [
    "sns.catplot(y='trip_distance', x='store_and_fwd_flag', data=df, kind=\"strip\")"
   ]
  },
  {
   "cell_type": "markdown",
   "id": "bb7b9d1a",
   "metadata": {},
   "source": [
    "### Trip distance is longer for trips whose flags were not stored."
   ]
  },
  {
   "cell_type": "markdown",
   "id": "4f30dc15",
   "metadata": {},
   "source": [
    "## Trip distance per time of day"
   ]
  },
  {
   "cell_type": "code",
   "execution_count": 83,
   "id": "238ed32f",
   "metadata": {},
   "outputs": [
    {
     "data": {
      "text/plain": [
       "<AxesSubplot:xlabel='pickup_timeofday', ylabel='trip_distance'>"
      ]
     },
     "execution_count": 83,
     "metadata": {},
     "output_type": "execute_result"
    },
    {
     "data": {
      "image/png": "[encoded data removed]",
      "text/plain": [
       "<Figure size 432x288 with 1 Axes>"
      ]
     },
     "metadata": {
      "needs_background": "light"
     },
     "output_type": "display_data"
    }
   ],
   "source": [
    "sns.lineplot(x='pickup_timeofday',y='trip_distance',data=df)"
   ]
  },
  {
   "cell_type": "markdown",
   "id": "2113690f",
   "metadata": {},
   "source": [
    "### Longest trips are more likely to happen in morning pickup rides."
   ]
  },
  {
   "cell_type": "markdown",
   "id": "75d18246",
   "metadata": {},
   "source": [
    "## Passenger count and Vendor ID"
   ]
  },
  {
   "cell_type": "code",
   "execution_count": 84,
   "id": "865af339",
   "metadata": {
    "scrolled": true
   },
   "outputs": [
    {
     "data": {
      "text/plain": [
       "<AxesSubplot:xlabel='VendorID', ylabel='passenger_count'>"
      ]
     },
     "execution_count": 84,
     "metadata": {},
     "output_type": "execute_result"
    },
    {
     "data": {
      "image/png": "[encoded data removed]",
      "text/plain": [
       "<Figure size 432x288 with 1 Axes>"
      ]
     },
     "metadata": {
      "needs_background": "light"
     },
     "output_type": "display_data"
    }
   ],
   "source": [
    "sns.barplot(y='passenger_count', x='VendorID', data=df)"
   ]
  },
  {
   "cell_type": "markdown",
   "id": "8fa58f67",
   "metadata": {},
   "source": [
    "### Vendor 2 carries more passengers per ride than Vendor 1 in general, and both of them are most likely to carry one passenger in a trip."
   ]
  },
  {
   "cell_type": "code",
   "execution_count": 85,
   "id": "b0a8420f",
   "metadata": {},
   "outputs": [
    {
     "data": {
      "text/plain": [
       "<AxesSubplot:xlabel='trip_type', ylabel='tip_amount'>"
      ]
     },
     "execution_count": 85,
     "metadata": {},
     "output_type": "execute_result"
    },
    {
     "data": {
      "image/png": "[encoded data removed]",
      "text/plain": [
       "<Figure size 432x288 with 1 Axes>"
      ]
     },
     "metadata": {
      "needs_background": "light"
     },
     "output_type": "display_data"
    }
   ],
   "source": [
    "sns.barplot(y='tip_amount',x='trip_type',data=df,estimator=np.mean)"
   ]
  },
  {
   "cell_type": "markdown",
   "id": "b85e5cc6",
   "metadata": {},
   "source": [
    "### We can see that trips of street-hail is more likely to yield better tips than trips of dispatch in general."
   ]
  },
  {
   "cell_type": "markdown",
   "id": "73b4d834",
   "metadata": {},
   "source": [
    "## All above are my solutions for the Data Science Exercise, thank you for your time and sincerely looking forward to your feedback and advice. Hopefully one day I could work with and learn from you at your esteemed company!"
   ]
  }
 ],
 "metadata": {
  "kernelspec": {
   "display_name": "Python 3",
   "language": "python",
   "name": "python3"
  },
  "language_info": {
   "codemirror_mode": {
    "name": "ipython",
    "version": 3
   },
   "file_extension": ".py",
   "mimetype": "text/x-python",
   "name": "python",
   "nbconvert_exporter": "python",
   "pygments_lexer": "ipython3",
   "version": "3.8.8"
  }
 },
 "nbformat": 4,
 "nbformat_minor": 5
}
